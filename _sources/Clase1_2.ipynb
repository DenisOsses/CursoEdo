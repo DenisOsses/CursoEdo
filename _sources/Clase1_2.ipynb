{
 "cells": [
  {
   "cell_type": "markdown",
   "id": "34321560",
   "metadata": {},
   "source": [
    "(Clase1.2)=\n",
    "# Clase 1.2 \n",
    "\n",
    "### Método de Variables Separables. Ecuaciones Lineales de Primer Orden. \n",
    "\n",
    "**Ley de Enfriamiento de Newton** Esta ley establece que la rapidez con que cambia la temperatura $T(t)$ de un cuerpo en el instante $t$ es proporcional a la diferencia entre la temperatura de dicho cuerpo y la del medio $T_m$ que lo rodea.\n",
    "\n",
    "Así, obtenemos la EDO\n",
    "\n",
    "```{math}\n",
    ":label: eq2.1\n",
    "\\frac{dT}{dt}=k(T-T_m)\n",
    "```\n",
    "\n",
    "Si $T_m$ es constante, la ecuación [](eq2.1) es de variables separables; en cambio, si $T_m=f(t)$ (varía en el tiempo), es una EDO **Lineal de Primer Orden**"
   ]
  }
 ],
 "metadata": {
  "jupytext": {
   "formats": "md:myst",
   "text_representation": {
    "extension": ".md",
    "format_name": "myst",
    "format_version": 0.13,
    "jupytext_version": "1.11.5"
   }
  },
  "kernelspec": {
   "display_name": "Python 3",
   "language": "python",
   "name": "python3"
  },
  "language_info": {
   "codemirror_mode": {
    "name": "ipython",
    "version": 3
   },
   "file_extension": ".py",
   "mimetype": "text/x-python",
   "name": "python",
   "nbconvert_exporter": "python",
   "pygments_lexer": "ipython3",
   "version": "3.9.13"
  },
  "source_map": [
   13
  ]
 },
 "nbformat": 4,
 "nbformat_minor": 5
}