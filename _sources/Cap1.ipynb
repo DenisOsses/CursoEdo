{
 "cells": [
  {
   "cell_type": "markdown",
   "id": "215938c0-668e-4482-8c72-a4c6c53f27d7",
   "metadata": {},
   "source": [
    "# Capítulo 1"
   ]
  },
  {
   "cell_type": "markdown",
   "id": "a4f701d0-c16e-4389-8333-1033908f3e93",
   "metadata": {},
   "source": [
    "Supongamos que un cuerpo de masa $m$ cae bajo la única influencia de la gravitación. La única fuerza que actúa sobre él es $mg$, donde $g$ es la aceleración de gravedad. Si $y$ es la altura medida hacia abajo desde una posición fija, entonces $v=\\frac{dy}{dt}$ es el ritmo de cambio de su posición y su aceleración $a=\\frac{dv}{dt}=\\frac{d^2y}{dt^2}$ es el ritmo de cambio de la velocidad. Reemplazando en (1.1) obtenemos \n",
    "\n",
    "$$\n",
    "\\tag{1.2}\n",
    "    m\\frac{d^2y}{dt^2}=mg\n",
    "$$\n",
    "\n",
    "Esta es una **Ecuación Diferencial Ordinaria (EDO)** de **Segundo Orden**.\n",
    "\n",
    "La ecuación (1.2) puede ser reescrita como una EDO de **Primer Orden**:\n",
    "\n",
    "$$\n",
    "\\tag{1.3}\n",
    "    m\\frac{dv}{dt}=mg\n",
    "$$\n",
    "\n",
    "Si admitimos que el aire ejerce una fuerza de resistencia proporcional a la velocidad, la fuerza total que actúa sobre el cuerpo es $mg-kv$ y la ecuación (1.3) queda  \n",
    "\n",
    "\\begin{equation*}\n",
    "    m\\frac{dv}{dt}=mg-kv\n",
    "\\end{equation*}\n",
    "\n",
    "¿Es posible determinar la velocidad $v(t)$ del cuerpo en cualquier instante $t$ si su velocidad inicial es $v(0)=v_0$?\n",
    "\n",
    "Si consideramos esta condición, tenemos el **Problema de Valor Inicial (PVI)**\n",
    "\n",
    "$$\\mathbf{PVI}~~~~\\left\\{\\begin{array}{ccc}m\\dfrac{dv}{dt}&=&mg-kv\\\\&&\\\\ v(0)&=&v_0\\end{array}\\right.$$\n",
    "\n",
    "Para resolver el PVI usamos el **método de separación de variables**, obteniendo \n",
    "\n",
    "$$v(t)=\\frac{mg}{k}+\\left(v_0-\\frac{mg}{k}\\right)e^{-\\frac{k}{m}t}$$ \n",
    "\n",
    "Esta es una **solución explícita** del PVI y su **intervalo de definición** es $t\\in\\mathbb{R}_0^+$. Podemos visualizar esta solución mediante el siguiente código de Python:"
   ]
  },
  {
   "cell_type": "markdown",
   "id": "d04aa531-1127-47bf-8c91-1e12786950ce",
   "metadata": {},
   "source": [
    "## Seccion1"
   ]
  },
  {
   "cell_type": "markdown",
   "id": "a7aaa9a9-be20-441f-9c51-d591dc261eb5",
   "metadata": {},
   "source": [
    "HOLSSSSS"
   ]
  },
  {
   "cell_type": "code",
   "execution_count": null,
   "id": "97b14633-f3a6-4f29-9abb-ebfa9bd0b023",
   "metadata": {},
   "outputs": [],
   "source": []
  }
 ],
 "metadata": {
  "kernelspec": {
   "display_name": "Python 3 (ipykernel)",
   "language": "python",
   "name": "python3"
  },
  "language_info": {
   "codemirror_mode": {
    "name": "ipython",
    "version": 3
   },
   "file_extension": ".py",
   "mimetype": "text/x-python",
   "name": "python",
   "nbconvert_exporter": "python",
   "pygments_lexer": "ipython3",
   "version": "3.9.13"
  }
 },
 "nbformat": 4,
 "nbformat_minor": 5
}
