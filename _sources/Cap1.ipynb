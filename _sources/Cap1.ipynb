{
 "cells": [
  {
   "cell_type": "markdown",
   "id": "215938c0-668e-4482-8c72-a4c6c53f27d7",
   "metadata": {},
   "source": [
    "# Capítulo 1"
   ]
  },
  {
   "cell_type": "markdown",
   "id": "a4f701d0-c16e-4389-8333-1033908f3e93",
   "metadata": {},
   "source": [
    "**Segunda ley de Newton**: Mutationem motus proportionalem esse vi motrici impressae, \\& fieri secundum lineam rectam qua vis illa imprimitur.\n",
    "\n",
    "\"El cambio de movimiento es directamente proporcional a la fuerza motriz impresa y ocurre según la línea recta a lo largo de la cual aquella fuerza se imprime.\"\n",
    "\n",
    "Actualmente decimos: La aceleración $a$ de un cuerpo de masa $m$ es proporcional a la fuerza total $F$ ejercida sobre él: \n",
    "\n",
    "$$\n",
    "F=ma\n",
    "$$\n",
    "\n",
    "Supongamos que un cuerpo de masa $m$ cae bajo la única influencia de la gravitación. La única fuerza que actúa sobre él es $mg$, donde $g$ es la aceleración de gravedad. Si $y$ es la altura medida hacia abajo desde una posición fija, entonces $v=\\frac{dy}{dt}$ es el ritmo de cambio de su posición y su aceleración $a=\\frac{dv}{dt}=\\frac{d^2y}{dt^2}$ es el ritmo de cambio de la velocidad. Reemplazando en (1.1) obtenemos \n",
    "\n",
    "$$\n",
    "\\tag{1.2}\n",
    "    m\\frac{d^2y}{dt^2}=mg\n",
    "$$\n",
    "\n",
    "Esta es una **Ecuación Diferencial Ordinaria (EDO)** de **Segundo Orden**.\n",
    "\n",
    "La ecuación (1.2) puede ser reescrita como una EDO de **Primer Orden**:\n",
    "\n",
    "$$\n",
    "\\tag{1.3}\n",
    "    m\\frac{dv}{dt}=mg\n",
    "$$\n",
    "\n",
    "Si admitimos que el aire ejerce una fuerza de resistencia proporcional a la velocidad, la fuerza total que actúa sobre el cuerpo es $mg-kv$ y la ecuación (1.3) queda  \n",
    "\n",
    "\\begin{equation*}\n",
    "    m\\frac{dv}{dt}=mg-kv\n",
    "\\end{equation*}\n",
    "\n",
    "¿Es posible determinar la velocidad $v(t)$ del cuerpo en cualquier instante $t$ si su velocidad inicial es $v(0)=v_0$?\n",
    "\n",
    "Si consideramos esta condición, tenemos el **Problema de Valor Inicial (PVI)**\n",
    "\n",
    "$$\\mathbf{PVI}~~~~\\left\\{\\begin{array}{ccc}m\\dfrac{dv}{dt}&=&mg-kv\\\\&&\\\\ v(0)&=&v_0\\end{array}\\right.$$\n",
    "\n",
    "Para resolver el PVI usamos el **método de separación de variables**, obteniendo \n",
    "\n",
    "$$v(t)=\\frac{mg}{k}+\\left(v_0-\\frac{mg}{k}\\right)e^{-\\frac{k}{m}t}$$ \n",
    "\n",
    "Esta es una **solución explícita** del PVI y su **intervalo de definición** es $t\\in\\mathbb{R}_0^+$. Algunas preguntas son:\n",
    "\n",
    "Establezca un PVI que exprese la posición $y(t)$ del cuerpo en cualquier instante $t$ si su posiciión inicial es $y(0)=y_0$.\n",
    "\n",
    "Resuelva el PVI anterior. ¿Qué ocurre cuando $t\\to\\infty$?\n",
    "\n",
    "Podemos visualizar esta solución mediante el siguiente código de Python:"
   ]
  },
  {
   "cell_type": "code",
   "execution_count": 17,
   "id": "f936f53f-5eac-422d-9cb0-64dc68ea1d11",
   "metadata": {},
   "outputs": [
    {
     "data": {
      "image/png": "[encoded data removed]",
      "text/plain": [
       "<Figure size 640x480 with 1 Axes>"
      ]
     },
     "metadata": {},
     "output_type": "display_data"
    }
   ],
   "source": [
    "from scipy.integrate import odeint\n",
    "import numpy as np\n",
    "import matplotlib.pyplot as plt\n",
    "\n",
    "def returns_dvdt(v,t):\n",
    "    dvdt = 10 - K * v\n",
    "    return dvdt\n",
    "\n",
    "# y value at time 0\n",
    "v0 = 5\n",
    "K = 1\n",
    "# values of time - from 0 to 8.\n",
    "t = np.linspace(0,8,10)\n",
    "# solving ODE\n",
    "y_result = odeint(returns_dvdt, v0, t)\n",
    "\n",
    "# plot results\n",
    "plt.plot(t,y_result)\n",
    "plt.xlabel(\"Time\")\n",
    "plt.ylabel(\"Y\")\n",
    "plt.show()"
   ]
  },
  {
   "cell_type": "markdown",
   "id": "d04aa531-1127-47bf-8c91-1e12786950ce",
   "metadata": {},
   "source": [
    "## Seccion1"
   ]
  },
  {
   "cell_type": "markdown",
   "id": "a7aaa9a9-be20-441f-9c51-d591dc261eb5",
   "metadata": {},
   "source": [
    "HOLSSSSS"
   ]
  },
  {
   "cell_type": "code",
   "execution_count": null,
   "id": "97b14633-f3a6-4f29-9abb-ebfa9bd0b023",
   "metadata": {},
   "outputs": [],
   "source": []
  }
 ],
 "metadata": {
  "kernelspec": {
   "display_name": "Python 3 (ipykernel)",
   "language": "python",
   "name": "python3"
  },
  "language_info": {
   "codemirror_mode": {
    "name": "ipython",
    "version": 3
   },
   "file_extension": ".py",
   "mimetype": "text/x-python",
   "name": "python",
   "nbconvert_exporter": "python",
   "pygments_lexer": "ipython3",
   "version": "3.9.13"
  }
 },
 "nbformat": 4,
 "nbformat_minor": 5
}
