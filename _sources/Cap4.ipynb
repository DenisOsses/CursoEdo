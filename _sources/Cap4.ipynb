{
 "cells": [
  {
   "cell_type": "markdown",
   "id": "933878f1",
   "metadata": {},
   "source": [
    "<!--######################################################################################################################################################################################################################################################################################################################################################\n",
    "-->"
   ]
  },
  {
   "cell_type": "markdown",
   "id": "d40ae5e3",
   "metadata": {},
   "source": [
    "(U4)=\n",
    "# Unidad 4"
   ]
  },
  {
   "cell_type": "markdown",
   "id": "6ffaaa26",
   "metadata": {},
   "source": [
    "## Transformada de Laplace\n",
    "\n",
    "En este capítulo estudiaremos una herramienta muy útil para resolver EDO Lineales: La [**transformada integral**](https://en.wikipedia.org/wiki/Integral_transform) de Laplace, que mapea o transforma una función $f(t)$ en otra función $F(s)$ mediante una integración:\n",
    "\n",
    "$$\n",
    "T\\left(f(t)\\right)=\\int_{t_1}^{t_2}K(s,t)f(t)~dt=F(s)\n",
    "$$ \n",
    "\n",
    "donde $K$ es conocida como el **núcleo** o **kernel** de la transformación y $t_1,t_2$ son valores que dependen de la definición particular que se utilice, pudiendo ser $\\pm\\infty$.\n",
    "\n",
    "La esencia de toda transformada integral es *transformar* un problema complicado -que involucre a $f(t)$- en uno nuevo para $F(s)$ que simplifique el original, para luego retornar a éste mediante una *transformada inversa* y resolverlo."
   ]
  },
  {
   "cell_type": "markdown",
   "id": "1b936539",
   "metadata": {},
   "source": [
    "### Definición y Existencia\n",
    "\n",
    "**Definición**: Si $f(t)$ es una función definida $\\forall~t>0$, entonces se dice que la integral \n",
    "\n",
    "$$\n",
    "\\mathscr{L}\\{f(t)\\}=\\int_0^\\infty e^{-st}f(t)~dt=F(s)\n",
    "$$ (Laplace)\n",
    "\n",
    "es la **Transformada de Laplace** de $f(t)$, siempre que la integral impropia converja.\n",
    "\n",
    "```{admonition} Ejercicio Teórico\n",
    "Calcule la Transformada de Laplace de $f(t)=e^{at}$, donde $a\\in\\mathbb{R}$.\n",
    "```\n",
    "\n",
    "En Python:"
   ]
  },
  {
   "cell_type": "code",
   "execution_count": 1,
   "id": "877636a1",
   "metadata": {
    "mystnb": {
     "code_prompt_hide": "Ocultar el código",
     "code_prompt_show": "Mostrar el código fuente"
    },
    "tags": [
     "hide-input"
    ]
   },
   "outputs": [
    {
     "name": "stdout",
     "output_type": "stream",
     "text": [
      "Transformada de Laplace de exp(at): 1/(-a + s)\n"
     ]
    }
   ],
   "source": [
    "import sympy as sp\n",
    "\n",
    "# Definir la variable simbólica 't' (tiempo) y 's' (frecuencia en el dominio de Laplace), a constante\n",
    "t, s, a= sp.symbols('t s a')\n",
    "\n",
    "# Definir algunas funciones simbólicas en el tiempo\n",
    "f1 = sp.exp(a*t)  # Función exponencial\n",
    "\n",
    "# Calcular las transformadas de Laplace\n",
    "laplace_f1 = sp.laplace_transform(f1, t, s)\n",
    "\n",
    "# Mostrar los resultados\n",
    "print(f\"Transformada de Laplace de exp(at): {laplace_f1[0]}\")"
   ]
  },
  {
   "cell_type": "markdown",
   "id": "8a3ec1cd",
   "metadata": {},
   "source": [
    "**Propiedad**: La transformada de Laplace es lineal: \n",
    "\n",
    "$$\n",
    "\\mathscr{L}\\{\\alpha f(t)+\\beta g(t)\\}=\\alpha\\mathscr{L}\\{f(t)\\}+\\beta\\mathscr{L}\\{g(t)\\}\n",
    "$$ \n",
    "\n",
    "para todo $\\alpha,\\beta\\in\\mathbb{R}$.\n",
    "\n",
    "**Condiciones Suficientes para la Existencia de la Transformada de Laplace.** Las condiciones suficientes que garantizan la existencia de $\\mathscr{L}\\{f(t)\\}$ son que:\n",
    "\n",
    "1. $f(t)$ sea continua por tramos en $[0,\\infty[~$.\n",
    "2. $f(t)$ sea de orden exponencial $c$, para todo $t>T$.\n",
    "\n",
    "```{figure} Laplace1.png\n",
    "---\n",
    "height: 150px\n",
    "name: TEU\n",
    "---\n",
    "Continuidad por Tramos\n",
    "```\n",
    "\n",
    "```{figure} Laplace2.png\n",
    "---\n",
    "height: 150px\n",
    "name: TEU\n",
    "---\n",
    "Orden Exponencial\n",
    "```\n",
    "Que $f(t)$ sea de orden exponencial $c$ significa que existen constantes $c,M>0$ tales que \n",
    "\n",
    "$$\n",
    "|f(t)|\\leq Me^{ct}\n",
    "$$ \n",
    "\n",
    "es decir, $f(t)$ no crece más rápido que $e^{ct}$.\n",
    "\n",
    "**Teorema}**: Si $f(t)$ es continua por tramos en $[0,\\infty[$ y de orden exponencial $c$ entonces $\\mathscr{L}\\{f(t)\\}$ existe para $s>c$.\n",
    "\n",
    "**Teorema**: Si $f(t)$ es continua por tramos en $[0,\\infty[$ y de orden exponencial $c$, con $\\mathscr{L}\\{f(t)\\}=F(s)$ entonces \n",
    "\n",
    "$$\n",
    "\\lim_{s\\to\\infty}F(s)=0.\n",
    "$$ \n",
    "\n",
    "```{admonition} Ejercicio Teórico\n",
    "Justifique que $\\mathscr{L}\\{\\frac{1}{t}\\}$, $\\mathscr{L}\\{e^{t^2}\\}$ no existen.\n",
    "```\n",
    "\n",
    "```{admonition} Ejercicio Teórico\n",
    "¿Existe una $f(t)$ continua por tramos en $[0,\\infty[$ y de orden exponencial $c$ tal que $\\mathscr{L}\\{f(t)\\}=s^2$?\n",
    "```"
   ]
  },
  {
   "cell_type": "markdown",
   "id": "912721a3",
   "metadata": {},
   "source": [
    "### Transformadas Básicas\n",
    "\n",
    "1. $\\mathscr{L}\\{1\\}=\\frac{1}{s}$.\n",
    "2. $\\mathscr{L}\\{t\\}=\\frac{1}{s^2}$.\n",
    "3. $\\mathscr{L}\\{t^n\\}=\\frac{n!}{s^{n+1}}$, $n\\in\\mathbb{N}_0$.\n",
    "4. $\\mathscr{L}\\{e^{at}\\}=\\frac{1}{s-a}$, $s>a$.\n",
    "5. $\\mathscr{L}\\{\\sin(kt)\\}=\\frac{k}{s^2+k^2}$.\n",
    "6. $\\mathscr{L}\\{\\cos(kt)\\}=\\frac{s}{s^2+k^2}$.\n",
    "\n",
    "```{admonition} Ejercicio Teórico\n",
    "Calcule $\\mathscr{L}\\{\\cos^2(t)\\}$.\n",
    "```"
   ]
  },
  {
   "cell_type": "markdown",
   "id": "7bbe9586",
   "metadata": {},
   "source": [
    "## Transformadas Inversas y Transformadas de Derivadas\n",
    "\n",
    "### Transformada Inversa\n",
    "\n",
    "**Definición**: Si $\\mathscr{L}\\{f(t)\\}=F(s)$ entonces \n",
    "\n",
    "$$\n",
    "\\mathscr{L}^{-1}\\{F(s)\\}=f(t)\n",
    "$$\n",
    "\n",
    "se denomina la **Transformada Inversa de Laplace** de $F(s)$.\n",
    "\n",
    "**Propiedad}**: La transformada inversa de Laplace es lineal: \n",
    "\n",
    "$$\n",
    "\\mathscr{L}^{-1}\\{\\alpha F(s)+\\beta G(s)\\}=\\alpha\\mathscr{L}^{-1}\\{F(s)\\}+\\beta\\mathscr{L}^{-1}\\{G(s)\\}\n",
    "$$ \n",
    "\n",
    "para todo $\\alpha,\\beta\\in\\mathbb{R}$.\n",
    "\n",
    "```{admonition} Ejercicio Teórico\n",
    "Calcule\n",
    "1. $\\mathscr{L}^{-1}\\left\\{\\frac{1}{s^8}\\right\\}$.\n",
    "2. $\\mathscr{L}^{-1}\\left\\{\\frac{1}{s^2+8}\\right\\}$.\n",
    "3. $\\mathscr{L}^{-1}\\left\\{\\frac{s}{(s^2+4)(s+2)}\\right\\}$.\n",
    "```"
   ]
  },
  {
   "cell_type": "code",
   "execution_count": 2,
   "id": "e4f31611",
   "metadata": {
    "mystnb": {
     "code_prompt_hide": "Ocultar el código",
     "code_prompt_show": "Mostrar el código fuente"
    },
    "tags": [
     "hide-input"
    ]
   },
   "outputs": [
    {
     "data": {
      "image/png": "[encoded data removed]",
      "text/latex": [
       "$\\displaystyle \\frac{t^{7}}{5040}$"
      ],
      "text/plain": [
       "  7 \n",
       " t  \n",
       "────\n",
       "5040"
      ]
     },
     "metadata": {},
     "output_type": "display_data"
    }
   ],
   "source": [
    "from sympy import *\n",
    "from sympy.printing.latex import LatexPrinter\n",
    "\n",
    "class MyLatexPrinter(LatexPrinter):\n",
    "    def _print_Heaviside(self, expr, exp=None):\n",
    "        pargs = ', '.join(self._print(arg) for arg in expr.pargs)\n",
    "        tex = r\"u\\left(%s\\right)\" % pargs\n",
    "        if exp:\n",
    "            tex = r\"\\left(%s\\right)^{%s}\" % (tex, exp)\n",
    "        return tex\n",
    "\n",
    "def my_latex(expr, **settings):\n",
    "    return MyLatexPrinter(settings).doprint(expr)\n",
    "\n",
    "init_printing(latex_printer=my_latex)\n",
    "\n",
    "var(\"s, t\",positive=True)\n",
    "expr = 1 / s**8\n",
    "inv_lap = inverse_laplace_transform(expr, s, t)\n",
    "display(inv_lap)"
   ]
  },
  {
   "cell_type": "markdown",
   "id": "f597a1d2",
   "metadata": {},
   "source": [
    "### Transformada de una Derivada\n",
    "\n",
    "Para utilizar la Transformada de Laplace con el fin de resolver una ecuación diferencial, debemos preguntarnos: ¿Es posible calcular la transformada de Laplace de $f'(t)$?\n",
    "\n",
    "**Teorema**: Si $f(t), f'(t),\\ldots,f^{(n-1)}(t)$ son continuas en $[0,\\infty[$, $f^{(n)}(t)$ es continua por tramos y $f(t)$ de orden exponencial en $[0,\\infty[$ entonces \n",
    "\n",
    "$$\n",
    "\\mathscr{L}\\{f^{(n)}(t)\\}=s^nF(s)-s^{n-1}f(0)-s^{n-2}f'(0)-\\cdots-f^{(n-1)}(0)\n",
    "$$\n",
    "\n",
    "donde $F(s)=\\mathscr{L}\\{f(t)\\}$.\n",
    "\n",
    "```{admonition} Ejercicio Teórico\n",
    "Resuelva \n",
    "\n",
    "$$\n",
    "y''+y=\\sqrt{2}\\sin(\\sqrt{2}t)~,~y(0)=y'(0)=0.\n",
    "$$\n",
    "```\n",
    "\n",
    "Gráfico de la solución en Python:"
   ]
  },
  {
   "cell_type": "code",
   "execution_count": 3,
   "id": "7c406f34",
   "metadata": {
    "mystnb": {
     "code_prompt_hide": "Ocultar el código",
     "code_prompt_show": "Mostrar el código fuente"
    },
    "tags": [
     "hide-input"
    ]
   },
   "outputs": [
    {
     "data": {
      "image/png": "[encoded data removed]",
      "text/plain": [
       "<Figure size 1200x600 with 1 Axes>"
      ]
     },
     "metadata": {},
     "output_type": "display_data"
    }
   ],
   "source": [
    "import numpy as np\n",
    "import matplotlib.pyplot as plt\n",
    "from scipy.integrate import odeint\n",
    "\n",
    "def laplace_solution(t):\n",
    "    return np.sqrt(2) * (np.sin(t) - np.sin(np.sqrt(2)*t)) / (2 - np.sqrt(2))\n",
    "\n",
    "# Generar puntos para graficar\n",
    "t = np.linspace(0, 20, 1000)\n",
    "\n",
    "# Calcular solución\n",
    "y_laplace = laplace_solution(t)\n",
    "\n",
    "# Graficar resultados\n",
    "plt.figure(figsize=(12, 6))\n",
    "plt.plot(t, y_laplace, label='Solución por Laplace')\n",
    "plt.xlabel('t')\n",
    "plt.ylabel('y')\n",
    "plt.title(\"Solución de y'' + y = √2 sen(√2t), y(0) = y'(0) = 0\")\n",
    "plt.legend()\n",
    "plt.grid(True)\n",
    "plt.show()"
   ]
  },
  {
   "cell_type": "markdown",
   "id": "73df4a25",
   "metadata": {},
   "source": [
    "Solución explícita en Python (mediante la Transformada de Laplace):"
   ]
  },
  {
   "cell_type": "code",
   "execution_count": 4,
   "id": "29b07eb2",
   "metadata": {
    "mystnb": {
     "code_prompt_hide": "Ocultar el código",
     "code_prompt_show": "Mostrar el código fuente"
    },
    "tags": [
     "hide-input"
    ]
   },
   "outputs": [
    {
     "name": "stdout",
     "output_type": "stream",
     "text": [
      "La solución explícita es:\n",
      "2⋅sin(t) - √2⋅sin(√2⋅t)\n"
     ]
    }
   ],
   "source": [
    "import sympy as sp\n",
    "\n",
    "# Definir las variables simbólicas (t como positiva)\n",
    "s = sp.symbols('s')\n",
    "t = sp.symbols('t', positive=True)\n",
    "Y = sp.Function('Y')(s)\n",
    "\n",
    "# Definir la transformada de Laplace de y''\n",
    "L_y_double_prime = s**2 * Y - s * sp.sympify(0) - sp.sympify(0)\n",
    "\n",
    "# Definir la transformada de Laplace de y\n",
    "L_y = Y\n",
    "\n",
    "# Definir la transformada de Laplace de √2*sin(√2*t)\n",
    "L_f = sp.sqrt(2) * (sp.sqrt(2) / (s**2 + 2))\n",
    "\n",
    "# Formar la ecuación en el dominio de Laplace\n",
    "laplace_eq = L_y_double_prime + L_y - L_f\n",
    "\n",
    "# Resolver para Y\n",
    "Y_solved = sp.solve(laplace_eq, Y)[0]\n",
    "\n",
    "# Aplicar la transformada inversa de Laplace\n",
    "y = sp.inverse_laplace_transform(Y_solved, s, t)\n",
    "\n",
    "# Simplificar la solución\n",
    "y_simplified = sp.simplify(y)\n",
    "\n",
    "print(\"La solución explícita es:\")\n",
    "sp.pprint(y_simplified)"
   ]
  },
  {
   "cell_type": "markdown",
   "id": "a9e30ae0",
   "metadata": {},
   "source": [
    "```{admonition} Ejercicio Teórico (Propuesto)\n",
    "Calcule $\\mathscr{L}\\{te^t\\}$.\n",
    "```"
   ]
  },
  {
   "cell_type": "markdown",
   "id": "ed132908",
   "metadata": {},
   "source": [
    "## Propiedades Operacionales I"
   ]
  },
  {
   "cell_type": "markdown",
   "id": "54968e15",
   "metadata": {},
   "source": [
    "###  Traslación en el Eje $s$\n",
    "\n",
    "¿Cuál es el efecto que produce la función $e^{at}$ sobre una función $f(t)$ al aplicar la Transformada de Laplace?\n",
    "\n",
    "**Primer Teorema de Traslación**:  Si $\\mathscr{L}\\{f(t)\\}=F(s)$ y $a\\in\\mathbb{R}$ entonces \n",
    "\n",
    "$$\n",
    "\\mathscr{L}\\{e^{at}f(t)\\}=F(s-a)\n",
    "$$ \n",
    "\n",
    "```{figure} Laplace3.png\n",
    "---\n",
    "height: 150px\n",
    "name: TEU\n",
    "---\n",
    "Traslación en el eje $s$\n",
    "```\n",
    "\n",
    "**Notación**: Usualmente escribimos \n",
    "\n",
    "$$\n",
    "\\mathscr{L}\\{e^{at}f(t)\\}=\\mathscr{L}\\{f(t)\\}\\Big|_{s\\mapsto s-a}\n",
    "$$\n",
    "\n",
    "```{admonition} Ejercicio Teórico\n",
    "Calcule $\\mathscr{L}\\{e^{2t}\\sin(7t)\\}$.\n",
    "```\n",
    "\n",
    "**Forma Inversa**: $\\mathscr{L}^{-1}\\{F(s-a)\\}=\\mathscr{L}^{-1}\\{F(s)\\}_{s\\mapsto s-a}=e^{at}f(t)$, donde $f(t)=\\mathscr{L}^{-1}\\{F(s)\\}$.\n",
    "\n",
    "```{admonition} Ejercicio Teórico\n",
    "Resuelva el PVI: \n",
    "\n",
    "$$\n",
    "y''-2y'+5y=1+t~~,~~y(0)=0~,~y'(0)=4.\n",
    "$$\n",
    "```"
   ]
  },
  {
   "cell_type": "markdown",
   "id": "11be0a12",
   "metadata": {},
   "source": [
    "### Función Escalón Unitario\n",
    "\n",
    "**Definición**: Se define la **Función Escalón Unitario** $\\mathscr{U}(t-a)$ como \n",
    "\n",
    "$$\n",
    "\\mathscr{U}(t-a)=\\left\\{\\begin{array}{ccc}0&\\text{si}&0\\leq t<a\\\\ 1&\\text{si}& t\\geq a\\end{array}\\right.\n",
    "$$\n",
    "\n",
    "```{figure} Laplace4.png\n",
    "---\n",
    "height: 150px\n",
    "name: TEU\n",
    "---\n",
    "Función Escalón Unitario\n",
    "```\n",
    "\n",
    "Toda función por tramos se puede escribir en términos de la función escalón unitario. Por ejemplo, \n",
    "\n",
    "$$\n",
    "f(t)=\\left\\{\\begin{array}{ccc}g(t)&\\text{si}&t<a\\\\ h(t)&\\text{si}& t\\geq a\\end{array}\\right.\n",
    "$$ \n",
    "\n",
    "puede escribirse como \n",
    "\n",
    "$$\n",
    "f(t)=g(t)\\big(1-\\mathscr{U}(t-a)\\big)+h(t)\\mathscr{U}(t-a).\n",
    "$$\n",
    "\n",
    "```{admonition} Ejercicio Teórico\n",
    " Escriba la función dada en términos del escalón unitario \n",
    " \n",
    " $$\n",
    " f(t)=\\left\\{\\begin{array}{ccc}g(t)&\\text{si}&t<a\\\\ h(t)&\\text{si}& a\\leq t<b\\\\ k(t)&\\text{si}&t\\geq b\\end{array}\\right.\n",
    " $$\n",
    "```\n",
    "\n",
    "El efecto que tiene la función $\\mathscr{U}(t-a)$ sobre una función cualquiera $f(t)$, donde $t\\geq 0$, es \n",
    "\n",
    "$$\n",
    "f(t-a)\\mathscr{U}(t-a)=\\left\\{\\begin{array}{ccc}0&\\text{si}&0\\leq t<a\\\\ f(t-a)&\\text{si}& t\\geq a\\end{array}\\right.\n",
    "$$ \n",
    "\n",
    "```{figure} Laplace5.png\n",
    "---\n",
    "height: 150px\n",
    "name: TEU\n",
    "---\n",
    "Desplazamiento en el eje $t$\n",
    "```\n",
    "\n",
    "```{admonition} Ejercicio Teórico\n",
    "Pruebe que\n",
    "\n",
    "1. $\\mathscr{L}\\left\\{\\mathscr{U}(t-a)\\right\\}=\\dfrac{e^{-as}}{s}$.\n",
    "2. $\\mathscr{L}\\left\\{f(t-a)\\mathscr{U}(t-a)\\right\\}=e^{-as}F(s)$, donde $F(s)=\\mathscr{L}\\{f(t)\\}$.\n",
    "```"
   ]
  },
  {
   "cell_type": "markdown",
   "id": "0b731a68",
   "metadata": {},
   "source": [
    "## Propiedades Operacionales II"
   ]
  },
  {
   "cell_type": "markdown",
   "id": "a58f2a1d",
   "metadata": {},
   "source": [
    "### Derivadas de Transformadas\n",
    "\n",
    "Suponga que $F(s)=\\mathscr{L}\\{f(t)\\}$ existe y que es posible intercambiar el orden de la derivada y la integral. Así \n",
    "\n",
    "$$\n",
    "\\frac{d}{ds}F(s)=-\\mathscr{L}\\{tf(t)\\}~~\\Rightarrow~~\\mathscr{L}\\{tf(t)\\}=-\\frac{d}{ds}F(s).\n",
    "$$ \n",
    "\n",
    "Luego \n",
    "\n",
    "$$\n",
    "\\mathscr{L}\\{t^2f(t)\\}=\\frac{d^2}{ds^2}F(s).\n",
    "$$\n",
    "\n",
    "**Teorema**: Si $F(s)=\\mathscr{L}\\{f(t)\\}$ y $n\\in\\mathbb{N}$ entonces \n",
    "\n",
    "$$\n",
    "\\mathscr{L}\\{t^nf(t)\\}=(-1)^n\\frac{d^n}{ds^n}F(s)\n",
    "$$\n",
    "\n",
    "```{admonition} Ejercicio Teórico\n",
    "Calcule $\\mathscr{L}\\{t\\cos(kt)\\}$ y $\\mathscr{L}\\{t^2e^{4t}\\}$.\n",
    "```\n",
    "\n",
    "```{admonition} Ejercicio Teórico\n",
    "Calcule $\\mathscr{L}^{-1}\\left\\{\\arctan\\left(\\dfrac{3}{s+2}\\right)\\right\\}$.\n",
    "```"
   ]
  },
  {
   "cell_type": "markdown",
   "id": "f2e07b85",
   "metadata": {},
   "source": [
    "### Convolución\n",
    "\n",
    "Si $f$ y $g$ son funciones continuas por tramos en $[0,\\infty[$ entonces la **convolución** $\\ast$ de $f$ con $g$ se define como \n",
    "\n",
    "$$\n",
    "f\\ast g=\\int_0^tf(\\tau)g(t-\\tau)~d\\tau\n",
    "$$\n",
    "\n",
    "¿Qué se trata de expresar mediante la convolución? Podemos interpretar $f\\ast g$ como una medida de la superposición o interacción entre $f$ y una versión trasladada e invertida de $g$. Una visualización de la convolución está disponible en [Youtube](https://www.youtube.com/watch?v=IOXzLMqcLbg&ab_channel=SignalSense) donde se muestra como un filtro de señales o una versión discreta en el canal [3B1B](https://www.youtube.com/watch?v=KuXjwB4LzSA&ab_channel=3Blue1Brown) donde se ejemplifica como filtro de imágenes.\n",
    "\n",
    "\n",
    "```{admonition} Ejercicio Teórico\n",
    "Calcule $e^t\\ast t^2$.\n",
    "```\n",
    "\n",
    "Solución explícita en Python:"
   ]
  },
  {
   "cell_type": "code",
   "execution_count": 5,
   "id": "050481d5",
   "metadata": {
    "mystnb": {
     "code_prompt_hide": "Ocultar el código",
     "code_prompt_show": "Mostrar el código fuente"
    },
    "tags": [
     "hide-input"
    ]
   },
   "outputs": [
    {
     "name": "stdout",
     "output_type": "stream",
     "text": [
      "La convolución es:\n",
      "   2            t    \n",
      "- t  - 2⋅t + 2⋅ℯ  - 2\n"
     ]
    }
   ],
   "source": [
    "import sympy as sp\n",
    "\n",
    "# Definir la variable simbólica\n",
    "t, tau = sp.symbols('t tau')\n",
    "\n",
    "# Definir las funciones f(tau) y g(t - tau)\n",
    "f_tau = sp.exp(tau)  # f(tau) = exp(tau) para tau >= 0\n",
    "g_t_tau = (t - tau)**2 # g(t - tau) = (t - tau)**2 para t - tau >= 0\n",
    "\n",
    "# Definir la convolución explícita\n",
    "convolucion_integral = sp.integrate(f_tau * g_t_tau, (tau, 0, t))\n",
    "\n",
    "# Simplificar la expresión resultante\n",
    "convolucion = sp.simplify(convolucion_integral)\n",
    "\n",
    "# Mostrar la solución explícita de la convolución\n",
    "print(\"La convolución es:\")\n",
    "sp.pprint(convolucion)"
   ]
  },
  {
   "cell_type": "markdown",
   "id": "f388876a",
   "metadata": {},
   "source": [
    "**Propiedad**: La convolución es conmutativa: $f\\ast g=g\\ast f$. \n",
    "\n",
    "**Teorema**: Si $f(t)$ y $g(t)$ son funciones continuas por tramos en $[0,\\infty[$ y de orden exponencial, entonces \n",
    "\n",
    "$$\n",
    "\\mathscr{L}\\{f\\ast g\\}=\\mathscr{L}\\{f(t)\\}\\cdot\\mathscr{L}\\{f(t)\\}=F(s)\\cdot G(s)\n",
    "$$\n",
    "\n",
    "```{admonition} Ejercicio Teórico\n",
    "Determine $\\displaystyle\\mathscr{L}\\left\\{\\int_0^te^\\tau(t-\\tau)^2~d\\tau\\right\\}.$\n",
    "```"
   ]
  },
  {
   "cell_type": "markdown",
   "id": "fac373f7",
   "metadata": {},
   "source": [
    "### Transformada de una Integral\n",
    "\n",
    "Usando el teorema de la transformada de Laplace de una convolución con $g(t)=1$, obtenemos que \n",
    "\n",
    "$$\n",
    "\\mathscr{L}\\left\\{\\int_0^tf(\\tau)~d\\tau\\right\\}=\\frac{F(s)}{s}\n",
    "$$\n",
    "\n",
    "```{admonition} Ejercicio Teórico\n",
    "Resolver la ecuación integro-diferencial \n",
    "\n",
    "$$\n",
    "y'(t)=1-\\sin(t)-\\int_0^ty(\\tau)~d\\tau~~,~~y(0)=0\n",
    "$$\n",
    "```"
   ]
  },
  {
   "cell_type": "markdown",
   "id": "5e4c9b1e",
   "metadata": {},
   "source": [
    "## Función Delta de Dirac\n",
    "\n",
    "Consideremos la función \n",
    "\n",
    "$$\n",
    "\\delta_a(t-t_0)=\\left\\{\\begin{array}{ccc}\n",
    "     0 & \\text{si} & 0\\leq t <t_0-a\\\\\n",
    "    \\frac{1}{2a} & \\text{si} & t_0-a< t <t_0+a\\\\ \n",
    "     0 & \\text{si} & t\\geq t_0-a\\\\\n",
    "\\end{array}\\right.\n",
    "$$ \n",
    "\n",
    "que se conoce como **función impulso unitario**. \n",
    "\n",
    "```{figure} Dirac1.png\n",
    "---\n",
    "height: 100px\n",
    "name: Dirac1\n",
    "---\n",
    "Función Impulso Unitario\n",
    "```\n",
    "\n",
    "**Propiedad**:\n",
    "\n",
    "$$\n",
    "\\int_0^\\infty\\delta_a(t-t_0)~dt=1\n",
    "$$\n",
    "\n",
    "**Definición**: La **función delta $\\delta$ de Dirac** se define como\n",
    "\n",
    "$$\n",
    "\\delta(t-t_0)=\\lim_{a\\to0}\\delta_a(t-t_0)\n",
    "$$\n",
    "\n",
    "```{figure} Dirac1.png\n",
    "---\n",
    "height: 100px\n",
    "name: Dirac2\n",
    "---\n",
    "Función Delta de Dirac\n",
    "```\n",
    "\n",
    "La función delta de Dirac tiene las siguientes propiedades:\n",
    "\n",
    "1. $$\n",
    "\\delta(t-t_0)=\\left\\{\\begin{array}{ccc}\n",
    "    \\infty & \\text{si} & t=t_0\\\\\n",
    "    0 & \\text{si} & t\\neq t_0 \n",
    "\\end{array}\\right.\n",
    "$$\n",
    "\n",
    "3. $$\n",
    "\\int_0^\\infty\\delta(t-t_0)~dt=1\n",
    "$$\n",
    "\n",
    "**Teorema**. Si $\\mathscr{L}\\{\\delta(t-t_0)\\}=\\displaystyle\\lim_{a\\to0}\\mathscr{L}\\{\\delta_a(t-t_0)\\}$ y $t_0>0$ entonces \n",
    "\n",
    "$$\n",
    "\\mathscr{L}\\{\\delta(t-t_0)\\}=e^{-st_0}\n",
    "$$\n",
    "\n",
    "En particular, si $t_0=0$ entonces \n",
    "\n",
    "$$\n",
    "\\mathscr{L}\\{\\delta(t)\\}=1.\n",
    "$$\n",
    "\n",
    "```{admonition} Ejercicio Aplicado\n",
    "Una masa de $1$ $kg.$, sujeta a un resorte de constante $k=1$, se suelta desde el reposo a $1$ $m.$ por debajo de la posición de equilibrio del sistema masa-resorte. Después de $\\frac{\\pi}{2}~seg.$, la masa es golpeada hacia abajo con un martillo que ejerce un impulso de magnitud $3$ sobre la masa.\n",
    "\n",
    "1. Determine la EDO que modela esta situación y resuélvala.\n",
    "2. ¿Qué le sucede a la masa después de ser golpeada? Interprete gráficamente.\n",
    "```\n",
    "\n",
    "En Python (Gracias a Alonso Tamayo por su amable colaboración):"
   ]
  },
  {
   "cell_type": "code",
   "execution_count": 6,
   "id": "4280c489",
   "metadata": {
    "mystnb": {
     "code_prompt_hide": "Ocultar el código",
     "code_prompt_show": "Mostrar el código fuente"
    },
    "tags": [
     "hide-input"
    ]
   },
   "outputs": [
    {
     "name": "stdout",
     "output_type": "stream",
     "text": [
      "EDO a resolver:\n"
     ]
    },
    {
     "data": {
      "image/png": "[encoded data removed]",
      "text/latex": [
       "$\\displaystyle x{\\left(t \\right)} + \\frac{d^{2}}{d t^{2}} x{\\left(t \\right)} = 3 \\delta\\left(t - \\frac{\\pi}{2}\\right)$"
      ],
      "text/plain": [
       "         2                   \n",
       "        d             ⎛    π⎞\n",
       "x(t) + ───(x(t)) = 3⋅δ⎜t - ─⎟\n",
       "         2            ⎝    2⎠\n",
       "       dt                    "
      ]
     },
     "metadata": {},
     "output_type": "display_data"
    },
    {
     "name": "stdout",
     "output_type": "stream",
     "text": [
      "Con PVI:\n"
     ]
    },
    {
     "data": {
      "image/png": "[encoded data removed]",
      "text/latex": [
       "$\\displaystyle x{\\left(0 \\right)} = 1$"
      ],
      "text/plain": [
       "x(0) = 1"
      ]
     },
     "metadata": {},
     "output_type": "display_data"
    },
    {
     "data": {
      "image/png": "[encoded data removed]",
      "text/latex": [
       "$\\displaystyle x'(0) = 0$"
      ],
      "text/plain": [
       "x'(0) = 0"
      ]
     },
     "metadata": {},
     "output_type": "display_data"
    },
    {
     "name": "stdout",
     "output_type": "stream",
     "text": [
      "\n",
      "\n",
      "Ecuación después de aplicar la transformada de Laplace sin aplicar las condiciones del PVI:\n"
     ]
    },
    {
     "data": {
      "image/png": "[encoded data removed]",
      "text/latex": [
       "$\\displaystyle s^{2} \\mathcal{L}_{t}\\left[x{\\left(t \\right)}\\right]\\left(s\\right) - s x{\\left(0 \\right)} + \\mathcal{L}_{t}\\left[x{\\left(t \\right)}\\right]\\left(s\\right) - \\left. \\frac{d}{d t} x{\\left(t \\right)} \\right|_{\\substack{ t=0 }} = 3 e^{- \\frac{\\pi s}{2}}$"
      ],
      "text/plain": [
       "                                                                              \n",
       "                                                                              \n",
       " 2                                                                        ⎛d  \n",
       "s ⋅LaplaceTransform(x(t), t, s) - s⋅x(0) + LaplaceTransform(x(t), t, s) - ⎜──(\n",
       "                                                                          ⎝dt \n",
       "\n",
       "                -π⋅s \n",
       "                ─────\n",
       "     ⎞│           2  \n",
       "x(t))⎟│    = 3⋅ℯ     \n",
       "     ⎠│t=0           "
      ]
     },
     "metadata": {},
     "output_type": "display_data"
    },
    {
     "name": "stdout",
     "output_type": "stream",
     "text": [
      "Ecuación después de aplicar la transformada de Laplace aplicando las condiciones PVI:\n"
     ]
    },
    {
     "data": {
      "image/png": "[encoded data removed]",
      "text/latex": [
       "$\\displaystyle s^{2} \\mathcal{L}_{t}\\left[x{\\left(t \\right)}\\right]\\left(s\\right) - s + \\mathcal{L}_{t}\\left[x{\\left(t \\right)}\\right]\\left(s\\right) = 3 e^{- \\frac{\\pi s}{2}}$"
      ],
      "text/plain": [
       "                                                                        -π⋅s \n",
       "                                                                        ─────\n",
       " 2                                                                        2  \n",
       "s ⋅LaplaceTransform(x(t), t, s) - s + LaplaceTransform(x(t), t, s) = 3⋅ℯ     "
      ]
     },
     "metadata": {},
     "output_type": "display_data"
    },
    {
     "name": "stdout",
     "output_type": "stream",
     "text": [
      "Transformada de Laplace:\n"
     ]
    },
    {
     "data": {
      "image/png": "[encoded data removed]",
      "text/latex": [
       "$\\displaystyle \\mathcal{L}_{t}\\left[x{\\left(t \\right)}\\right]\\left(s\\right) = \\frac{\\left(s e^{\\frac{\\pi s}{2}} + 3\\right) e^{- \\frac{\\pi s}{2}}}{s^{2} + 1}$"
      ],
      "text/plain": [
       "                               ⎛   π⋅s    ⎞  -π⋅s \n",
       "                               ⎜   ───    ⎟  ─────\n",
       "                               ⎜    2     ⎟    2  \n",
       "                               ⎝s⋅ℯ    + 3⎠⋅ℯ     \n",
       "LaplaceTransform(x(t), t, s) = ───────────────────\n",
       "                                       2          \n",
       "                                      s  + 1      "
      ]
     },
     "metadata": {},
     "output_type": "display_data"
    },
    {
     "name": "stdout",
     "output_type": "stream",
     "text": [
      "\n",
      "\n",
      "La solución simbólica es:\n"
     ]
    },
    {
     "data": {
      "image/png": "[encoded data removed]",
      "text/latex": [
       "$\\displaystyle x{\\left(t \\right)} = \\left(u\\left(t\\right) - 3 u\\left(t - \\frac{\\pi}{2}\\right)\\right) \\cos{\\left(t \\right)}$"
      ],
      "text/plain": [
       "       ⎛          ⎛    π⎞⎞       \n",
       "x(t) = ⎜θ(t) - 3⋅θ⎜t - ─⎟⎟⋅cos(t)\n",
       "       ⎝          ⎝    2⎠⎠       "
      ]
     },
     "metadata": {},
     "output_type": "display_data"
    },
    {
     "data": {
      "image/png": "[encoded data removed]",
      "text/plain": [
       "<Figure size 1200x600 with 1 Axes>"
      ]
     },
     "metadata": {},
     "output_type": "display_data"
    }
   ],
   "source": [
    "# Importar módulos necesarios\n",
    "import sympy as sp\n",
    "import numpy as np\n",
    "import matplotlib.pyplot as plt\n",
    "\n",
    "# Definir variables simbólicas\n",
    "t = sp.Symbol('t', real = True)\n",
    "s = sp.Symbol('s')\n",
    "\n",
    "# Definir función x y sus derivadas\n",
    "x = sp.Function('x')(t)\n",
    "dx_dt = x.diff(t)\n",
    "dx2_dt = dx_dt.diff(t)\n",
    "\n",
    "# Definir función F que reemplaza a la transformada de Laplace\n",
    "F = sp.Function('F')(s)\n",
    "\n",
    "##################################################\n",
    "#    EDITAR AQUÍ    #\n",
    "#####################\n",
    "# Definir el/los desplazamiento(s) de la(s) delta(s)\n",
    "a = [sp.pi/2]\n",
    "\n",
    "# Definir la EDO\n",
    "EDO = sp.Eq(dx2_dt + x, 3*sp.DiracDelta(t - a[0]))\n",
    "\n",
    "# Definir las condiciones del PVI\n",
    "x_0 = 1\n",
    "dx_0 = 0\n",
    "\n",
    "# Definir intervalo de t para graficar\n",
    "Valores_t = np.linspace(0, 4*np.pi, 1000)\n",
    "\n",
    "##################################################\n",
    "\n",
    "# Definir las ecuaciones para mostrar las condiciones del PVI\n",
    "x_t_0 = sp.Eq(x.subs(t, 0), x_0)\n",
    "dx_t_0 = sp.Eq(sp.Symbol(\"x'(0)\"), dx_0)\n",
    "\n",
    "# Imprimir la EDO a resolver\n",
    "print('EDO a resolver:')\n",
    "display(EDO)\n",
    "print('Con PVI:')\n",
    "display(x_t_0)\n",
    "display(dx_t_0)\n",
    "\n",
    "# Aplicar la transformada de Laplace a la ecuación\n",
    "# usa directamente la transformada sin intentar acceder al índice\n",
    "lhs_transform = sp.laplace_transform(EDO.lhs, t, s)\n",
    "rhs_transform = sp.laplace_transform(EDO.rhs, t, s)\n",
    "\n",
    "if isinstance(lhs_transform, tuple):\n",
    "    lhs_transform = lhs_transform[0]\n",
    "if isinstance(rhs_transform, tuple):\n",
    "    rhs_transform = rhs_transform[0]\n",
    "\n",
    "Ecuacion_Laplace = sp.Eq(lhs_transform, rhs_transform)\n",
    "\n",
    "# Imprimir expresión de la ecuación con transformada de Laplace\n",
    "print('\\n\\nEcuación después de aplicar la transformada de Laplace sin aplicar las condiciones del PVI:')\n",
    "display(Ecuacion_Laplace)\n",
    "\n",
    "# Aplicar los valores del PVI a la ecuación\n",
    "Ecuacion_Laplace_PVI = Ecuacion_Laplace.subs({\n",
    "    sp.LaplaceTransform(x, t, s): F,\n",
    "    x.subs(t, 0): x_0,\n",
    "    dx_dt.subs(t, 0): dx_0})\n",
    "\n",
    "# Imprimir la ecuación con transformada de Laplace considerando las condiciones del PVI\n",
    "print('Ecuación después de aplicar la transformada de Laplace aplicando las condiciones PVI:')\n",
    "display(Ecuacion_Laplace_PVI.subs({F: sp.LaplaceTransform(x, t, s)}))\n",
    "\n",
    "# Resolver por la transformada de Laplace\n",
    "Solucion_Laplace = sp.solve(Ecuacion_Laplace_PVI, F)[0]\n",
    "\n",
    "# Imprimir la ecuación de la transformada de Laplace\n",
    "print('Transformada de Laplace:')\n",
    "display(sp.Eq(sp.LaplaceTransform(x, t, s), Solucion_Laplace.simplify()))\n",
    "\n",
    "# Calcular la transformada inversa y simplificar la expresión\n",
    "Solucion = sp.inverse_laplace_transform(Solucion_Laplace, s, t).doit().simplify()\n",
    "\n",
    "# Imprimir la solución simbólica\n",
    "print('\\n\\nLa solución simbólica es:')\n",
    "display(sp.Eq(x, Solucion))\n",
    "\n",
    "# Convertir la solución simbólica a una función numérica para graficar\n",
    "x_Lambda = sp.lambdify(t, Solucion, modules = ['numpy'])\n",
    "\n",
    "# Crear puntos para graficar\n",
    "Valores_x = x_Lambda(Valores_t)\n",
    "\n",
    "# Graficar la solución\n",
    "plt.figure(1, (12, 6))\n",
    "plt.clf()\n",
    "plt.plot(Valores_t, Valores_x)\n",
    "plt.grid(True)\n",
    "plt.title(f'Solución de ${sp.latex(EDO)}$, con PVI: ${sp.latex(x_t_0)}$, ${sp.latex(dx_t_0)}$')\n",
    "plt.xlabel('Tiempo $t$')\n",
    "plt.ylabel('Posición $x(t)$')\n",
    "[plt.axvline(_a, color = 'r', linestyle = '--', alpha = 0.3, label = f'$t={sp.latex(_a)}$') for _a in a]\n",
    "plt.axhline(0, color = 'k', linestyle = '-', alpha = 0.3)\n",
    "plt.legend()\n",
    "plt.show()\n",
    "\n",
    "### Gracias a Alonso Tamayo por su amable colaboración."
   ]
  }
 ],
 "metadata": {
  "jupytext": {
   "formats": "md:myst",
   "text_representation": {
    "extension": ".md",
    "format_name": "myst",
    "format_version": 0.13,
    "jupytext_version": "1.11.5"
   }
  },
  "kernelspec": {
   "display_name": "Python 3",
   "language": "python",
   "name": "python3"
  },
  "language_info": {
   "codemirror_mode": {
    "name": "ipython",
    "version": 3
   },
   "file_extension": ".py",
   "mimetype": "text/x-python",
   "name": "python",
   "nbconvert_exporter": "python",
   "pygments_lexer": "ipython3",
   "version": "3.9.13"
  },
  "source_map": [
   13,
   18,
   23,
   37,
   55,
   74,
   128,
   143,
   172,
   198,
   222,
   250,
   254,
   290,
   296,
   300,
   340,
   399,
   403,
   433,
   452,
   476,
   490,
   507,
   585
  ]
 },
 "nbformat": 4,
 "nbformat_minor": 5
}