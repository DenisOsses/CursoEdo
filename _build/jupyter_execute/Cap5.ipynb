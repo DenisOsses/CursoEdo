{
 "cells": [
  {
   "cell_type": "markdown",
   "id": "6fd7ff73",
   "metadata": {},
   "source": [
    "<!--######################################################################################################################################################################################################################################################################################################################################################\n",
    "-->"
   ]
  },
  {
   "cell_type": "markdown",
   "id": "d0478b04",
   "metadata": {},
   "source": [
    "(U5)=\n",
    "# Unidad 5"
   ]
  },
  {
   "cell_type": "markdown",
   "id": "a26d1db6",
   "metadata": {},
   "source": [
    "## Soluciones de EDO mediante Series de Potencias"
   ]
  },
  {
   "cell_type": "markdown",
   "id": "95b9b222",
   "metadata": {},
   "source": [
    "### Introducción. Sistemas Masa-Resorte con Resorte Variable\n",
    "\n",
    "Podemos suponer que en un sistema masa-resorte modelado como [](eqMAS), a saber $mx''+kx=0$, que está en movimiento durante un largo tiempo, el resorte se debilite; es decir, varía la *constante del resorte* y ésta decae con el tiempo. En un modelo para el **resorte cada vez más viejo** la constante de resorte $k$ se reemplaza con la función decreciente $K(t)=ke^{-\\alpha t}$, $k,\\alpha>0$, obteniendo la ecuación diferencial lineal \n",
    "\n",
    "$$\n",
    "mx''+ke^{-\\alpha t}x=0\n",
    "$$ (ResorteViejo)\n",
    "\n",
    "También, cuando un sistema masa-resorte se somete a un ambiente en el que la temperatura disminuye con rapidez, podría tener sentido reemplazar la constante $k$ con $K(t)=kt$, $k>0$, una función que se incrementa con el tiempo ya que es razonable pensar que el frío aumenta la resistencia o endurece de los resortes. El modelo resultante se conoce como **ecuación diferencial de Airy**\n",
    "\n",
    "$$\n",
    "mx''+ktx=0\n",
    "$$ (ResorteAiry)\n",
    "\n",
    "¿Es posible resolver estas ecuaciones diferenciales? No podemos hacerlo con los métodos vistos hasta ahora."
   ]
  },
  {
   "cell_type": "markdown",
   "id": "4860b49b",
   "metadata": {},
   "source": [
    "### Soluciones Respecto a Puntos Ordinarios\n",
    "\n",
    "Consideremos la EDO lineal de segundo orden homogénea \n",
    "\n",
    "$$\n",
    "a_2(x)y'''+a_1(x)y'+a_0(x)y=0\n",
    "$$ (Serie1)\n",
    "\n",
    "que en forma estándar es \n",
    "\n",
    "$$\n",
    "y''+P(x)y'+Q(x)y=0\n",
    "$$ (Serie2)\n",
    "\n",
    "**Definición**: Decimos que $x_0$ es un **punto ordinario** de [](Serie1) si tanto $P(x)$ como $Q(x)$ en la forma estándar [](Serie2) son **analíticas** en $x_0$, es decir $P(x)$ y $Q(x)$ se pueden desarrollar en serie de potencias en torno a $x_0$:\n",
    "\n",
    "$$\n",
    "P(x)=\\sum_{n=0}^\\infty a_n(x-x_0)^n~~~~,~~~~Q(x)=\\sum_{n=0}^\\infty b_n(x-x_0)^n\n",
    "$$ \n",
    "\n",
    "Un punto que no es ordinario se denomina **punto singular** de la Ecuación Diferencial.\n",
    "\n",
    "**Teorema**: Si $x_0$ es un punto ordinario de [](Serie1) entonces siempre es posible encontrar 2 soluciones L.I. en forma de series de potencias en torno a $x_0$. Una solución en serie converge, por lo menos, en un intervalo $]x_0-R,x_0+R[$ donde $R$ es la distancia de $x_0$ al punto singular más cercano.\n",
    "\n",
    "```{admonition} Ejercicio Teórico\n",
    "Determine los puntos ordinarios y singulares de \n",
    "\n",
    "$$\n",
    "(x^2-x)y''-3xy'+y=0.\n",
    "$$\n",
    "```\n",
    "\n",
    "**Nota**: Habitualmente analizaremos ecuaciones con $x_0=0$ como punto ordinario.\n",
    "\n",
    "### Método de Solución Mediante Series \n",
    "\n",
    "Si $x_0=0$ es un punto ordinario de la ecuación [](Serie1), reemplazamos la solución \n",
    "\n",
    "$$\n",
    "y=\\sum_{n=0}^\\infty c_nx^n\n",
    "$$ \n",
    "\n",
    "en [](Serie1). Esto nos lleva a una **ecuación de recurrencia** para los coeficientes $c_n$ de la serie de potencias solución.\n",
    "\n",
    "```{admonition} Ejercicio Teórico\n",
    "Resuelva la ecuación diferencial de Airy (con $k=1$): $y''+xy=0$ en torno al punto ordinario $x_0=0$. \n",
    "```"
   ]
  }
 ],
 "metadata": {
  "jupytext": {
   "formats": "md:myst",
   "text_representation": {
    "extension": ".md",
    "format_name": "myst",
    "format_version": 0.13,
    "jupytext_version": "1.11.5"
   }
  },
  "kernelspec": {
   "display_name": "Python 3",
   "language": "python",
   "name": "python3"
  },
  "language_info": {
   "codemirror_mode": {
    "name": "ipython",
    "version": 3
   },
   "file_extension": ".py",
   "mimetype": "text/x-python",
   "name": "python",
   "nbconvert_exporter": "python",
   "pygments_lexer": "ipython3",
   "version": "3.9.13"
  },
  "source_map": [
   13,
   18,
   23,
   27,
   45
  ]
 },
 "nbformat": 4,
 "nbformat_minor": 5
}