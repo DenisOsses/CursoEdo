{
 "cells": [
  {
   "cell_type": "markdown",
   "id": "43655cee",
   "metadata": {},
   "source": [
    "<!--######################################################################################################################################################################################################################################################################################################################################################\n",
    "-->"
   ]
  },
  {
   "cell_type": "markdown",
   "id": "d7f5d0bc",
   "metadata": {},
   "source": [
    "(Glosario)=\n",
    "# Glosario"
   ]
  },
  {
   "cell_type": "markdown",
   "id": "4a05d188",
   "metadata": {},
   "source": [
    "(EDO)= \n",
    "<u>**Ecuación Diferencial Ordinaria (EDO)**</u>: Una Ecuación Diferencial es una ecuación que tiene como incógnita a una función (usualmente $y$) de una variable independiente (habitualmente $x$ o $t$) junto a sus derivadas. Se puede representar de modo general como \n",
    "\n",
    "$$\n",
    "F(x,y,y',y'',\\ldots,y^{(n)})=0\n",
    "$$\n",
    "\n",
    "(PrimerOrden)=\n",
    "<u>**EDO de Primer Orden**</u>: Una EDO se llama de Primer Orden si sólo contiene hasta la primera derivada de una función, digamos $F(x,y,y')=0$.\n",
    "\n",
    "(SegundoOrden)=\n",
    "<u>**EDO de Segundo Orden**</u>: Una EDO se llama de Segundo Orden si contiene hasta la segunda derivada de una función, digamos $F(x,y,y',y'')=0$.\n",
    "\n",
    "(DefPVI)=\n",
    "<u>**Problema de Valor Inicial (PVI)**</u>: Un PVI consiste de una EDO $F(x,y,y',y'',\\ldots,y^{(n)})=0$ junto a las $n$ condiciones iniciales $y^{(i)}(x_0)=y_i$, para $i=0,1,2,\\ldots,n-1$.\n",
    "\n",
    "(SepVar)=\n",
    "<u>**Método de separación de variables**</u>: Una EDO está en variables separables si es de la forma \n",
    "\n",
    "$$\n",
    "\\frac{dy}{dx}=g(x)h(y).\n",
    "$$ \n",
    "\n",
    "Se resuelve dejando todas las variables de un tipo a un lado de la ED0 e integrando: \n",
    "\n",
    "$$\n",
    "\\int\\frac{1}{h(y)}dy=\\int g(x)~dx.\n",
    "$$\n",
    "\n",
    "(Explicita)=\n",
    "<u>**Solución explícita**</u>: Es la solución de un PVI que se obtiene mediante un método analítico y tiene la forma $y=f(x)$, para $x\\in~I$, donde $I$ es un intervalo.\n",
    "\n",
    "(Intervalo)=\n",
    "<u>**Intervalo de definición**</u>: Es el conjunto $I$ donde la solución de una EDO existe.\n",
    "\n",
    "(Lineal1er)=\n",
    "<u>**Lineal de Primer Orden**</u>: Una EDO es lineal de primer orden si tiene la forma \n",
    "\n",
    "$$\n",
    "a_1(x)\\frac{dy}{dx}+a_0(x)y=g(x).\n",
    "$$ \n",
    "\n",
    "Para resolver esta EDO, la escribimos en su **forma estándar** \n",
    "\n",
    "$$\n",
    "\\frac{dy}{dx}+P(x)y=f(x),\n",
    "$$ \n",
    "\n",
    "donde $P(x)$ y $f(x)$ son funciones continuas en un intervalo $I$. Luego identificamos la función $P(x)$ y calculamos el **factor integrante** \n",
    "\n",
    "$$\n",
    "e^{\\int P(x)~dx}\n",
    "$$\n",
    "\n",
    "Posteriormente, multiplicamos la EDO (en su forma estándar) por este factor integrante. Notamos que obtenemos la derivada de un producto: \n",
    "\n",
    "$$\n",
    "\\frac{d}{dx}\\left(e^{\\int P(x)~dx}\\cdot y\\right)=e^{\\int P(x)~dx}\\cdot f(x).\n",
    "$$ \n",
    "\n",
    "Finalmente, integramos esta igualdad para obtener la solución $y(x)$ de la EDO:\n",
    "\n",
    "$$y(x)=\\dfrac{1}{e^{\\int P(x)~dx}}\\left(\\int e^{\\int P(x)~dx}\\cdot f(x)~dx\\right)+C$$"
   ]
  }
 ],
 "metadata": {
  "jupytext": {
   "formats": "md:myst",
   "text_representation": {
    "extension": ".md",
    "format_name": "myst",
    "format_version": 0.13,
    "jupytext_version": "1.11.5"
   }
  },
  "kernelspec": {
   "display_name": "Python 3",
   "language": "python",
   "name": "python3"
  },
  "language_info": {
   "codemirror_mode": {
    "name": "ipython",
    "version": 3
   },
   "file_extension": ".py",
   "mimetype": "text/x-python",
   "name": "python",
   "nbconvert_exporter": "python",
   "pygments_lexer": "ipython3",
   "version": "3.9.13"
  },
  "source_map": [
   13,
   18,
   23
  ]
 },
 "nbformat": 4,
 "nbformat_minor": 5
}