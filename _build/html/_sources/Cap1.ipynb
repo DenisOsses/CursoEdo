{
 "cells": [
  {
   "cell_type": "markdown",
   "id": "a13da676",
   "metadata": {},
   "source": [
    "<!--######################################################################################################################################################################################################################################################################################################################################################\n",
    "-->"
   ]
  },
  {
   "cell_type": "markdown",
   "id": "6ad1f835",
   "metadata": {},
   "source": [
    "(U1)=\n",
    "# Unidad 1"
   ]
  },
  {
   "cell_type": "markdown",
   "id": "0354e8dd",
   "metadata": {},
   "source": [
    "## Introducción. Método de Variables Separables\n",
    "\n",
    "<!-- (Clase1.1)=\n",
    "## Clase 1.1 \n",
    "\n",
    "+++\n",
    "\n",
    "### Introducción. Método de Variables Separables -->\n",
    "\n",
    "**Segunda ley de Newton**: La aceleración $a$ de un cuerpo de masa $m$ es proporcional a la fuerza total $F$ ejercida sobre él: \n",
    "\n",
    "```{math}\n",
    ":label: eq1.1\n",
    "F=ma\n",
    "```\n",
    "\n",
    "Supongamos que un cuerpo de masa $m$ cae bajo la única influencia de la gravitación. La única fuerza que actúa sobre él es $mg$, donde $g$ es la aceleración de gravedad. Si $y$ es la altura medida hacia abajo desde una posición fija, entonces $v=\\frac{dy}{dt}$ es el ritmo de cambio de su posición y su aceleración $a=\\frac{dv}{dt}=\\frac{d^2y}{dt^2}$ es el ritmo de cambio de la velocidad. Reemplazando en [](eq1.1) obtenemos \n",
    "\n",
    "```{math}\n",
    ":label: eq1.2\n",
    "m\\frac{d^2y}{dt^2}=mg\n",
    "```\n",
    "\n",
    "Esta es una [**Ecuación Diferencial Ordinaria (EDO)**](EDO) de [**Segundo Orden**](SegundoOrden).\n",
    "\n",
    "La ecuación [](eq1.2) puede ser reescrita como una EDO de [**Primer Orden**](PrimerOrden):\n",
    "\n",
    "```{math}\n",
    ":label: eq1.3\n",
    "m\\frac{dv}{dt}=mg\n",
    "```\n",
    "\n",
    "Si admitimos que el aire ejerce una fuerza de resistencia proporcional a la velocidad (con una constante de proporcionalidad $k>0$), la fuerza total que actúa sobre el cuerpo es $mg-kv$ y la ecuación [](eq1.3) queda  \n",
    "\n",
    "\\begin{equation*}\n",
    "    m\\frac{dv}{dt}=mg-kv \n",
    "\\end{equation*}\n",
    "\n",
    "¿Es posible determinar la velocidad $v(t)$ del cuerpo en cualquier instante $t$ si su velocidad inicial es $v(0)=v_0$?\n",
    "\n",
    "Si consideramos esta condición, tenemos el [**Problema de Valor Inicial (PVI)**](DefPVI)\n",
    "\n",
    "$$\\mathbf{PVI}~~~~\\left\\{\\begin{array}{ccc}m\\dfrac{dv}{dt}&=&mg-kv\\\\&&\\\\ v(0)&=&v_0\\end{array}\\right.$$\n",
    "\n",
    "Sin resolver explícitamente el PVI, podemos visualizar esta solución mediante el siguiente código de Python:"
   ]
  },
  {
   "cell_type": "code",
   "execution_count": 1,
   "id": "e7e04ee6",
   "metadata": {
    "tags": [
     "Ejer1"
    ]
   },
   "outputs": [
    {
     "data": {
      "image/png": "[encoded data removed]",
      "text/plain": [
       "<Figure size 640x480 with 1 Axes>"
      ]
     },
     "metadata": {},
     "output_type": "display_data"
    }
   ],
   "source": [
    "from scipy.integrate import odeint\n",
    "import numpy as np\n",
    "import matplotlib.pyplot as plt\n",
    "\n",
    "# función que entrega dv/dt\n",
    "def modelo(v,t,k):\n",
    "    dvdt = g - k * v/m\n",
    "    return dvdt\n",
    "\n",
    "# condición inicial\n",
    "v0 = 0\n",
    "\n",
    "#parámetros\n",
    "g = 9.8\n",
    "m = 1 \n",
    "\n",
    "# valores de tiempo\n",
    "t = np.linspace(0,30)\n",
    "\n",
    "# soluciones EDO para distintos k\n",
    "k = 0.1\n",
    "v1 = odeint(modelo,v0,t,args=(k,))\n",
    "k = 0.2\n",
    "v2 = odeint(modelo,v0,t,args=(k,))\n",
    "k = 1\n",
    "v3 = odeint(modelo,v0,t,args=(k,))\n",
    "\n",
    "# gráfico\n",
    "plt.plot(t,v1,'r',linewidth=1,label='k=0.1')\n",
    "plt.plot(t,v2,'b',linewidth=1,label='k=0.2')\n",
    "plt.plot(t,v3,'g',linewidth=1,label='k=1')\n",
    "plt.xlabel('Tiempo')\n",
    "plt.ylabel('v(t)')\n",
    "plt.legend(shadow=True)\n",
    "plt.show()"
   ]
  },
  {
   "cell_type": "markdown",
   "id": "40dd9bdb",
   "metadata": {},
   "source": [
    "Para determinar una solución del PVI usamos el [**método de separación de variables**](SepVar):\n",
    "\n",
    "\\begin{align*}\n",
    "    m\\dfrac{dv}{dt}&=mg-kv~\\Rightarrow~m\\frac{dv}{mg-kv}=dt~\\Rightarrow~m\\int\\frac{dv}{mg-kv}=\\int dt\\\\\n",
    "    &\\Rightarrow -\\frac{m}{k}\\ln\\left|mg-kv\\right|=t+K_1~\\Rightarrow~\\ln\\left|mg-kv\\right|=-\\frac{k}{m}t+K_2\\\\\n",
    "    &\\Rightarrow mg-kv=K_3e^{-\\frac{k}{m}t}\n",
    "\\end{align*}\n",
    "\n",
    "Si imponemos la condición $v(0)=v_0$ obtenemos que $K_3=mg-kv_0$. Finalmente, despejamos $v$ y la velocidad de caída del cuerpo en el instante $t$ es\n",
    "\n",
    "$$\n",
    "v(t)=\\frac{mg}{k}+\\left(v_0-\\frac{mg}{k}\\right)e^{-\\frac{k}{m}t}\n",
    "$$\n",
    "\n",
    "Esta es una [**solución explícita**](Explicita) del PVI y su [**intervalo de definición**](Intervalo) es $t\\in\\mathbb{R}_0^+$.\n",
    "\n",
    "Python también nos permite encontrar una solución general del PVI:"
   ]
  },
  {
   "cell_type": "code",
   "execution_count": 2,
   "id": "83bf3319",
   "metadata": {
    "tags": [
     "Ejer1-1"
    ]
   },
   "outputs": [
    {
     "data": {
      "text/latex": [
       "$\\displaystyle v{\\left(t \\right)} = \\frac{g m}{k} + \\frac{\\left(- g m + k v_{0}\\right) e^{- \\frac{k t}{m}}}{k}$"
      ],
      "text/plain": [
       "Eq(v(t), g*m/k + (-g*m + k*v0)*exp(-k*t/m)/k)"
      ]
     },
     "execution_count": 2,
     "metadata": {},
     "output_type": "execute_result"
    }
   ],
   "source": [
    "from sympy import symbols, Function, dsolve\n",
    "\n",
    "# Símbolos\n",
    "t, g, k , m, v0= symbols(\"t, g, k, m, v0\")\n",
    "\n",
    "# v es función del tiempo\n",
    "v = Function('v')(t)\n",
    "\n",
    "# Derivada de v\n",
    "dvdt = v.diff(t)\n",
    "\n",
    "# Ecuación diferencial\n",
    "eq = dvdt - g + k*v/m\n",
    "\n",
    "# Solución de la EDO con la condición inicial v(0)=v0\n",
    "dsolve(eq, v, ics={v.subs(t, 0): v0})"
   ]
  },
  {
   "cell_type": "markdown",
   "id": "318c3a98",
   "metadata": {},
   "source": [
    "```{admonition} Ejercicio Aplicado y Teórico\n",
    "Establezca un PVI que exprese la posición $y(t)$ del cuerpo en cualquier instante $t$ si su posición inicial es $y(0)=y_0$. Sin resolver el PVI, visualice sus soluciones para distintos valores de los parámetros involucrados. ¿Qué ocurre cuando $t\\to\\infty$? Finalmente, determine la solución explícita del PVI de modo analítico y también usando Python. \n",
    "```\n",
    "\n",
    "<!--######################################################################################################################################################################################################################################################################################################################################################\n",
    "-->"
   ]
  },
  {
   "cell_type": "markdown",
   "id": "5cd39524",
   "metadata": {},
   "source": [
    "## Ecuaciones Lineales de Primer Orden\n",
    "\n",
    "En la clase anterior, analizamos una EDO a partir de un modelo dado, hoy comenzaremos con una situación similar y terminaremos con la construcción de una EDO de modo general siguiendo principios físicos y matemáticos."
   ]
  },
  {
   "cell_type": "markdown",
   "id": "59669c03",
   "metadata": {},
   "source": [
    "### Ley de Enfriamiento de Newton"
   ]
  },
  {
   "cell_type": "markdown",
   "id": "519bf01b",
   "metadata": {},
   "source": [
    "Esta ley establece que la rapidez con que cambia la temperatura $T(t)$ de un cuerpo en el instante $t$ es proporcional a la diferencia entre la temperatura de dicho cuerpo y la del medio $T_m$ que lo rodea.\n",
    "\n",
    "Así, obtenemos la EDO\n",
    "\n",
    "$$\n",
    "\\frac{dT}{dt}=k(T-T_m)\n",
    "$$ (eq2.1)\n",
    "\n",
    "Si $T_m$ es constante, la ecuación [](eq2.1) es de variables separables; en cambio, si $T_m=f(t)$ (varía en el tiempo), es una EDO [**Lineal de Primer Orden**](Lineal1er).\n",
    "\n",
    "En particular, si $T_m=20+10\\sin(0.1t)$, $T(0)=100$ y $k=0.1$, la temperatura de un objeto se puede modelar como"
   ]
  },
  {
   "cell_type": "code",
   "execution_count": 3,
   "id": "59df36ec",
   "metadata": {
    "tags": [
     "Ejer2-1"
    ]
   },
   "outputs": [
    {
     "data": {
      "image/png": "[encoded data removed]",
      "text/plain": [
       "<Figure size 640x480 with 1 Axes>"
      ]
     },
     "metadata": {},
     "output_type": "display_data"
    }
   ],
   "source": [
    "import numpy as np\n",
    "import matplotlib.pyplot as plt\n",
    "from scipy.integrate import solve_ivp\n",
    "\n",
    "# Parámetros de la ley de enfriamiento de Newton\n",
    "k = -0.1  # Constante de enfriamiento\n",
    "\n",
    "# Función que define la temperatura del medio variable en el tiempo\n",
    "def T_m(t):\n",
    "    return 20 + 10 * np.sin(0.1 * t)\n",
    "\n",
    "# Definición de la EDO para la ley de enfriamiento de Newton\n",
    "def Newton(t, T):\n",
    "    return k * (T - T_m(t))\n",
    "\n",
    "# Condición inicial\n",
    "T0 = 100  # Temperatura inicial del objeto\n",
    "\n",
    "# Intervalo de tiempo para la simulación\n",
    "t_span = (0, 100)\n",
    "t_eval = np.linspace(t_span[0], t_span[1], 1000)\n",
    "\n",
    "# Resolver la EDO\n",
    "sol = solve_ivp(Newton, t_span, [T0], t_eval=t_eval)\n",
    "\n",
    "# Graficar los resultados\n",
    "plt.plot(sol.t, sol.y[0], label='Temperatura del objeto')\n",
    "plt.plot(sol.t, T_m(sol.t), label='Temperatura del medio', linestyle='dashed')\n",
    "plt.xlabel('Tiempo')\n",
    "plt.ylabel('Temperatura')\n",
    "plt.legend()\n",
    "plt.title('Ley de Enfriamiento de Newton con Temperatura del Medio Variable')\n",
    "plt.show()"
   ]
  },
  {
   "cell_type": "markdown",
   "id": "98dda47f",
   "metadata": {},
   "source": [
    "¿Es posible plantear un modelo más realista?\n",
    "\n",
    "```{admonition} Ejercicio Aplicado\n",
    "Obtenga los datos de la estación meteorológica del aeródromo de Tobalaba para un día cualquiera (Estación 330019). Ajuste esos datos a una curva y úsela como temperatura del medio. Estudie la situación anterior para este caso.\n",
    "```"
   ]
  },
  {
   "cell_type": "markdown",
   "id": "60901d20",
   "metadata": {},
   "source": [
    "### Mezclas"
   ]
  },
  {
   "cell_type": "markdown",
   "id": "b9a32909",
   "metadata": {},
   "source": [
    "Consideremos un tanque que contiene una solución (mezcla de sal y solvente). Existen tanto flujos de entrada como de salida y se quiere calcular la cantidad $x(t)$ de solución en el tanque en el instante $t$, donde la cantidad de solución (sal) inicial en el tanque es $x(0)=x_0$.\n",
    "\n",
    "Suponga que la sustancia, con una concentración constante de $c_i~[gr/lt]$ de solución, fluye dentro del tanque a una velocidad constante de $r_i~[lt/seg]$ y que la solución en el tanque (que permanece completamente mezclada por agitación) fluye hacia afuera a una velocidad constante de $r_0~[lt/seg]$ con una concentración de $c_0~[gr/lt]$.\n",
    "\n",
    "```{figure} Mezclas.png\n",
    "---\n",
    "height: 150px\n",
    "name: Mezclas\n",
    "---\n",
    "Modelo de Mezclas\n",
    "```\n",
    "\n",
    "Con el fin de determinar una ED0 para $x(t)$, estimamos el cambio $\\Delta x$ durante un breve intervalo de tiempo $[t,t+\\Delta t]$. La cantidad de sal que fluye dentro del tanque durante $\\Delta t$ segundos es \n",
    "\n",
    "$$\n",
    "r_i\\cdot c_i\\cdot\\Delta t~[gr].\n",
    "$$\n",
    "\n",
    "Notamos que la cantidad de sal $x$ en un intervalo de tiempo infinitesimal es \n",
    "\n",
    "$$\n",
    "\\Delta x=\\{gr~entrada\\}-\\{gr~salida\\}\n",
    "$$ \n",
    "\n",
    "$$\n",
    "\\approx r_i\\cdot c_i\\cdot\\Delta t-r_0\\cdot c_0\\cdot\\Delta t~~\\Rightarrow~~\\frac{\\Delta x}{\\Delta t}\\approx r_i\\cdot c_i-r_0\\cdot c_0.\n",
    "$$ \n",
    "\n",
    "Haciendo $\\Delta t\\to0$, obtenemos la ED \n",
    "\n",
    "$$\n",
    "\\frac{dx}{dt}=r_i\\cdot c_i-r_0\\cdot c_0.\n",
    "$$ \n",
    "\n",
    "En general, la cantidad de sal que fluye hacia afuera del tanque, depende de la concentración $c_0(t)$ de sal presente en la solución en el instante $t$. Pero \n",
    "\n",
    "$$\n",
    "c_0(t)=\\frac{x(t)}{V(t)}\n",
    "$$\n",
    "\n",
    "donde $V(t)$ es el volumen de la solución en el instante $t$ ($V(t)$ es no constante a menos que $r_i=r_0$). Reemplazando, obtenemos la ED \n",
    "\n",
    "$$\n",
    "\\frac{dx}{dt}=r_i\\cdot c_i-\\frac{r_0}{V}\\cdot x.\n",
    "$$ \n",
    "\n",
    "Notamos que la razón de cambio del volumen en el tiempo, depende de la velocidad inicial $r_i$ y final $r_0$; es decir, \n",
    "\n",
    "$$\n",
    "\\frac{dV}{dt}=r_i-r_0~~\\Rightarrow~~V(t)=(r_i-r_0)t+K.\n",
    "$$\n",
    "\n",
    "Poniendo la condición inicial $V(0)=V_0$, obtenemos $V(t)=(r_i-r_0)t+V_0$. \n",
    "\n",
    "Por lo tanto, la ED que modela el problema de mezclas es \n",
    "\n",
    "$$\n",
    "\\frac{dx}{dt}=r_i\\cdot c_i-\\frac{r_0}{(r_i-r_0)t+V_0}\\cdot x\n",
    "$$ \n",
    "\n",
    "¿Qué tipo de ecuación es esta?\n",
    "\n",
    "```{admonition} Ejercicio Aplicado y Teórico\n",
    "Determine la solución explícita de la ecuación anterior de modo analítico y también usando Python. \n",
    "```\n",
    "\n",
    "<!--######################################################################################################################################################################################################################################################################################################################################################\n",
    "-->\n",
    "\n",
    "## Crecimiento Poblacional. Ecuación Logística"
   ]
  },
  {
   "cell_type": "markdown",
   "id": "42b96484",
   "metadata": {},
   "source": [
    "### Crecimiento de Población"
   ]
  },
  {
   "cell_type": "markdown",
   "id": "92ab64dd",
   "metadata": {},
   "source": [
    "La razón con que una población $P(t)$ cambia en un cierto tiempo $t$ es proporcional a la población total $P(t)$ en ese tiempo \n",
    "\n",
    "$$\n",
    "\\frac{dP}{dt}=kP\n",
    "$$ \n",
    "\n",
    "Esta EDO es de variables separables y su solución es $P(t)=P_0e^{kt}$, donde $P_0=P(0)$ es la población inicial. \n",
    "\n",
    "```{admonition} Ejercicio Teórico\n",
    "De acuerdo a datos del [INE](https://www.ine.gob.cl/estadisticas/sociales/demografia-y-vitales/proyecciones-de-poblacion) la tasa de crecimiento demográfico de Chile en el año 2020 fue de un $1.12\\%$ (Ver \"Cuadros Estadísticos-Proyección Base 2017\" documento \"Estimaciones y Proyecciones 1992-2050\"). Si ese año la población chilena era de $19458310$ y la tasa de crecimiento se mantiene constante, calcule la población chilena al año 2023. La estimación del INE para la población chilena del año 2023 fue de $19960889$, ¿hay alguna discrepancia con su cálculo?, ¿cómo podría explicarla para mejorar su modelo? \n",
    "```\n",
    "\n",
    "### Un Modelo no Lineal: Ecuación Logística\n",
    "\n",
    "Suponga que la población $P(t)$ cambia sólo por la ocurrencia de nacimientos y muertes. Sean $\\beta(t)$ y $\\alpha(t)$ la tasa de nacimientos y muertes, respectivamente. \n",
    "\n",
    "Entonces, el número de nacimientos y muertes que se registran durante el intervalo de tiempo $[t, t+\\Delta t]$ está dado (aproximadamente) por \n",
    "\n",
    "$$\n",
    "\\text{nacimientos}: \\beta(t)\\cdot P(t)\\cdot\\Delta t~,~\\text{muertes}: \\alpha(t)\\cdot P(t)\\cdot\\Delta t\n",
    "$$\n",
    "\n",
    "Por tanto, el cambio $\\Delta P$ en la población durante el intervalo de tiempo $[t, t+\\Delta t]$ es \n",
    "\n",
    "$$\n",
    "\\Delta P=[\\text{nacimientos} - \\text{muertes}]\\approx\\beta(t)\\cdot P(t)\\cdot\\Delta t-\\alpha(t)\\cdot P(t)\\cdot\\Delta t\n",
    "$$\n",
    "\n",
    "Así \n",
    "\n",
    "$$\n",
    "\\frac{\\Delta P}{\\Delta t}\\approx\\big(\\beta(t)-\\alpha(t)\\big)P(t)\n",
    "$$\n",
    "\n",
    "Haciendo $\\Delta t\\to 0$, obtenemos la EDO de **población general** \n",
    "\n",
    "$$\n",
    "\\frac{dP}{dt}=\\big(\\beta(t)-\\alpha(t)\\big)P(t)\n",
    "$$\n",
    "\n",
    "Habitualmente la tasa de nacimientos decrece en la medida en que una población se incrementa debido a, por ejemplo, una mayor sofisticación científica o cultural, hasta una limitación en el suministro de alimentos.\n",
    "\n",
    "Para simplificar el problema, supondremos que la tasa de nacimientos $\\beta(t)$ es una función lineal decreciente del tamaño de la población $P(t)$, tal que $\\beta(t)=\\beta_0-\\beta_1P$ donde $\\beta_0,\\beta_1$ son constantes positivas. Si la tasa de mortalidad $\\alpha(t)=\\alpha_0$ permanece constante, entonces la ecuación de población general toma la forma \n",
    "\n",
    "$$\n",
    "\\frac{dP}{dt}=\\big(\\beta_0-\\beta_1P-\\alpha_0\\big)P\n",
    "$$\n",
    "\n",
    "Es decir \n",
    "\n",
    "$$\n",
    "\\frac{dP}{dt}=aP-bP^2\n",
    "$$ \n",
    "\n",
    "donde $a=\\beta_0-\\alpha_0$ y $b=\\beta_1$. Si $a,b>0$ entonces la EDO anterior se denomina **ecuación logística**. \n",
    "\n",
    "Estableciendo la condición inicial $P(0)=P_0$ y separando variables, podemos obtener la solución de la ecuación logística: \n",
    "\n",
    "$$\n",
    "P(t)=\\frac{aP_0}{bP_0+(a-bP_0)e^{-at}}\n",
    "$$\n",
    "\n",
    "<!-- La EDO logística es una ecuación autónoma, por lo que podemos estudiar su solución $P(t)$ de manera cualitativa: -->"
   ]
  }
 ],
 "metadata": {
  "jupytext": {
   "formats": "md:myst",
   "text_representation": {
    "extension": ".md",
    "format_name": "myst",
    "format_version": 0.13,
    "jupytext_version": "1.11.5"
   }
  },
  "kernelspec": {
   "display_name": "Python 3",
   "language": "python",
   "name": "python3"
  },
  "language_info": {
   "codemirror_mode": {
    "name": "ipython",
    "version": 3
   },
   "file_extension": ".py",
   "mimetype": "text/x-python",
   "name": "python",
   "nbconvert_exporter": "python",
   "pygments_lexer": "ipython3",
   "version": "3.9.13"
  },
  "source_map": [
   13,
   18,
   23,
   71,
   108,
   128,
   146,
   155,
   161,
   165,
   179,
   215,
   223,
   227,
   300,
   304
  ]
 },
 "nbformat": 4,
 "nbformat_minor": 5
}