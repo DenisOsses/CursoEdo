{
 "cells": [
  {
   "cell_type": "markdown",
   "id": "4a6b5abe",
   "metadata": {},
   "source": [
    "<!--######################################################################################################################################################################################################################################################################################################################################################\n",
    "-->"
   ]
  },
  {
   "cell_type": "markdown",
   "id": "30a031de",
   "metadata": {},
   "source": [
    "(U5)=\n",
    "# Unidad 5"
   ]
  },
  {
   "cell_type": "markdown",
   "id": "f764d911",
   "metadata": {},
   "source": [
    "## Soluciones de EDO mediante Series de Potencias"
   ]
  },
  {
   "cell_type": "markdown",
   "id": "b4431e06",
   "metadata": {},
   "source": [
    "### Introducción. Sistemas Masa-Resorte con Resorte Variable\n",
    "\n",
    "Podemos suponer que en un sistema masa-resorte modelado como [](eqMAS), a saber $mx''+kx=0$, que está en movimiento durante un largo tiempo, el resorte se debilite; es decir, varía la *constante del resorte* y ésta decae con el tiempo. En un modelo para el **resorte cada vez más viejo** la constante de resorte $k$ se reemplaza con la función decreciente $K(t)=ke^{-\\alpha t}$, $k,\\alpha>0$, obteniendo la ecuación diferencial lineal \n",
    "\n",
    "$$\n",
    "mx''+ke^{-\\alpha t}x=0\n",
    "$$ (ResorteViejo)\n",
    "\n",
    "También, cuando un sistema masa-resorte se somete a un ambiente en el que la temperatura disminuye con rapidez, podría tener sentido reemplazar la constante $k$ con $K(t)=kt$, $k>0$, una función que se incrementa con el tiempo ya que es razonable pensar que el frío aumenta la resistencia o endurece de los resortes. El modelo resultante se conoce como **ecuación diferencial de Airy**\n",
    "\n",
    "$$\n",
    "mx''+ktx=0\n",
    "$$ (ResorteAiry)\n",
    "\n",
    "¿Es posible resolver estas ecuaciones diferenciales? No podemos hacerlo con los métodos vistos hasta ahora."
   ]
  },
  {
   "cell_type": "markdown",
   "id": "2e5acb72",
   "metadata": {},
   "source": [
    "### Soluciones Respecto a Puntos Ordinarios\n",
    "\n",
    "Consideremos la EDO lineal de segundo orden homogénea \n",
    "\n",
    "$$\n",
    "a_2(x)y'''+a_1(x)y'+a_0(x)y=0\n",
    "$$ (Serie1)\n",
    "\n",
    "que en forma estándar es \n",
    "\n",
    "$$\n",
    "y''+P(x)y'+Q(x)y=0\n",
    "$$ (Serie2)\n",
    "\n",
    "**Definición**: Decimos que $x_0$ es un **punto ordinario** de [](Serie1) si tanto $P(x)$ como $Q(x)$ en la forma estándar [](Serie2) son **analíticas** en $x_0$, es decir $P(x)$ y $Q(x)$ se pueden desarrollar en serie de potencias en torno a $x_0$:\n",
    "\n",
    "$$\n",
    "P(x)=\\sum_{n=0}^\\infty a_n(x-x_0)^n~~~~,~~~~Q(x)=\\sum_{n=0}^\\infty b_n(x-x_0)^n\n",
    "$$ \n",
    "\n",
    "Un punto que no es ordinario se denomina **punto singular** de la Ecuación Diferencial.\n",
    "\n",
    "**Teorema**: Si $x_0$ es un punto ordinario de [](Serie1) entonces siempre es posible encontrar 2 soluciones L.I. en forma de series de potencias en torno a $x_0$. Una solución en serie converge, por lo menos, en un intervalo $]x_0-R,x_0+R[$ donde $R$ es la distancia de $x_0$ al punto singular más cercano.\n",
    "\n",
    "```{admonition} Ejercicio Teórico\n",
    "Determine los puntos ordinarios y singulares de \n",
    "\n",
    "$$\n",
    "(x^2-x)y''-3xy'+y=0.\n",
    "$$\n",
    "```\n",
    "\n",
    "**Nota**: Habitualmente analizaremos ecuaciones con $x_0=0$ como punto ordinario.\n",
    "\n",
    "### Método de Solución Mediante Series \n",
    "\n",
    "Si $x_0=0$ es un punto ordinario de la ecuación [](Serie1), reemplazamos la solución \n",
    "\n",
    "$$\n",
    "y=\\sum_{n=0}^\\infty c_nx^n\n",
    "$$ \n",
    "\n",
    "en [](Serie1). Esto nos lleva a una **ecuación de recurrencia** para los coeficientes $c_n$ de la serie de potencias solución.\n",
    "\n",
    "```{admonition} Ejercicio Teórico\n",
    "Resuelva la ecuación diferencial de Airy (con $k=1$): $y''+xy=0$ en torno al punto ordinario $x_0=0$. \n",
    "```"
   ]
  },
  {
   "cell_type": "markdown",
   "id": "039b456e",
   "metadata": {},
   "source": [
    "En python podemos construir un código que calcule automáticamente la derivación y reemplazo de la serie de potencias en la ecuación diferencial y dé el desarrollo de la solución en serie de potencias, pero la relación de recurrencia entre coeficientes debe ser determinada manualmente:"
   ]
  },
  {
   "cell_type": "code",
   "execution_count": 1,
   "id": "213b22c9",
   "metadata": {
    "mystnb": {
     "code_prompt_hide": "Ocultar el código",
     "code_prompt_show": "Mostrar el código fuente"
    },
    "tags": [
     "hide-input"
    ]
   },
   "outputs": [
    {
     "data": {
      "text/latex": [
       "$\\displaystyle 2 c_{2} + x \\left(c_{0} + 6 c_{3}\\right) + x^{2} \\left(c_{1} + 12 c_{4}\\right) + x^{3} \\left(c_{2} + 20 c_{5}\\right) + x^{4} \\left(c_{3} + 30 c_{6}\\right) + x^{5} \\left(c_{4} + 42 c_{7}\\right) + x^{6} \\left(c_{5} + 56 c_{8}\\right) + x^{7} \\left(c_{6} + 72 c_{9}\\right) + x^{8} \\cdot \\left(c_{7} + 90 c_{10}\\right) + x^{9} \\cdot \\left(c_{8} + 110 c_{11}\\right)$"
      ],
      "text/plain": [
       "                        2                 3                 4                 \n",
       "2⋅c₂ + x⋅(c₀ + 6⋅c₃) + x ⋅(c₁ + 12⋅c₄) + x ⋅(c₂ + 20⋅c₅) + x ⋅(c₃ + 30⋅c₆) + x\n",
       "\n",
       "5                 6                 7                 8                  9    \n",
       " ⋅(c₄ + 42⋅c₇) + x ⋅(c₅ + 56⋅c₈) + x ⋅(c₆ + 72⋅c₉) + x ⋅(c₇ + 90⋅c₁₀) + x ⋅(c₈\n",
       "\n",
       "           \n",
       " + 110⋅c₁₁)"
      ]
     },
     "execution_count": 1,
     "metadata": {},
     "output_type": "execute_result"
    }
   ],
   "source": [
    "import sympy as sp\n",
    "sp.interactive.printing.init_printing(use_latex='mathjax', order='old')\n",
    "\n",
    "x = sp.symbols('x')\n",
    "\n",
    "def serie_EDO(N,a,b,c):\n",
    "    #   N = Número de términos de la serie\n",
    "    #   a = Coeficiente de y''\n",
    "    #   b = Coeficiente de y'\n",
    "    #   c = Coeficiente de y\n",
    "    #   Observación: En caso de ingresar una fraccion numérica realizarlo de la\n",
    "    #                forma: sp.Rational(p,q) donde p=numerador y q=denominador.\n",
    "\n",
    "    '''Función que calcula N términos de la serie de potencias centrada en 0,\n",
    "    asociada a la expresión ay''+by'+cy, donde a,b,c son funciones que\n",
    "    dependen de x.'''\n",
    "\n",
    "    coef = sp.symbols('c0:' + str(2 * N))\n",
    "    y = sum([coef[i] * x**i for i in range(2 * N)])\n",
    "    expr = sp.expand(a * sp.diff(y,x,2) + b * sp.diff(y,x) + c * y)\n",
    "    co = [expr.coeff(x,i) for i in range(N)]\n",
    "    serie = sum([co[i] * x**i for i in range(N)])\n",
    "    return serie\n",
    "\n",
    "serie_EDO(10,1,0,x)"
   ]
  },
  {
   "cell_type": "markdown",
   "id": "1f7c9fac",
   "metadata": {},
   "source": [
    "También podemos generar un código que dé el desarrollo de la serie de potencias solución:"
   ]
  },
  {
   "cell_type": "code",
   "execution_count": 2,
   "id": "4107b9bf",
   "metadata": {
    "mystnb": {
     "code_prompt_hide": "Ocultar el código",
     "code_prompt_show": "Mostrar el código fuente"
    },
    "tags": [
     "hide-input"
    ]
   },
   "outputs": [
    {
     "data": {
      "text/latex": [
       "$\\displaystyle c_{0} + c_{1} x - \\frac{c_{0} x^{3}}{6} - \\frac{c_{1} x^{4}}{12} + \\frac{c_{0} x^{6}}{180} + \\frac{c_{1} x^{7}}{504} - \\frac{c_{0} x^{9}}{12960}$"
      ],
      "text/plain": [
       "                3       4       6       7       9\n",
       "            c₀⋅x    c₁⋅x    c₀⋅x    c₁⋅x    c₀⋅x \n",
       "c₀ + c₁⋅x - ───── - ───── + ───── + ───── - ─────\n",
       "              6       12     180     504    12960"
      ]
     },
     "execution_count": 2,
     "metadata": {},
     "output_type": "execute_result"
    }
   ],
   "source": [
    "import sympy as sp\n",
    "\n",
    "# Definimos los símbolos y parámetros\n",
    "x = sp.symbols('x')\n",
    "sp.interactive.printing.init_printing(use_latex='mathjax', order='old')\n",
    "\n",
    "# Función para calcular la solución en términos de solo c0 y c1\n",
    "def calcular_solucion_en_terminos_de_c0_c1(N, a, b, c):\n",
    "    # Definimos los coeficientes de la serie de potencias\n",
    "    coef = sp.symbols('c0:' + str(2 * N))\n",
    "    y = sum([coef[i] * x**i for i in range(2 * N)])\n",
    "    # Expandimos la expresión de la EDO\n",
    "    expr = sp.expand(a * sp.diff(y, x, 2) + b * sp.diff(y, x) + c * y)\n",
    "    # Obtenemos los coeficientes de x^i\n",
    "    co = [expr.coeff(x, i) for i in range(N)]\n",
    "    \n",
    "    # Calculamos la relación de recurrencia\n",
    "    relacion_recurrencia = []\n",
    "    for i in range(len(co)):\n",
    "        # Resolviendo cada ecuación en función de coeficientes c_i\n",
    "        eq = sp.Eq(co[i], 0)\n",
    "        solucion = sp.solve(eq, coef[i + 2])  # Relación en términos de coeficientes previos\n",
    "        relacion_recurrencia.append((coef[i + 2], solucion[0]) if solucion else (coef[i + 2], 0))\n",
    "    \n",
    "    # Expresamos los coeficientes solo en función de c0 y c1\n",
    "    c0, c1 = sp.symbols('c0 c1')\n",
    "    coef_valores = {coef[0]: c0, coef[1]: c1}\n",
    "    for i, (ci, valor) in enumerate(relacion_recurrencia):\n",
    "        if valor != 0:\n",
    "            # Sustituimos cada coeficiente en términos de c0 y c1\n",
    "            coef_valores[ci] = valor.subs(coef_valores)\n",
    "        else:\n",
    "            coef_valores[ci] = 0\n",
    "    \n",
    "    # Construimos la solución en términos de c0 y c1\n",
    "    y_solucion = sum(coef_valores[coef[i]] * x**i for i in range(N))\n",
    "    \n",
    "    return relacion_recurrencia, y_solucion.simplify()\n",
    "\n",
    "# Ejecutamos el cálculo con N=10, a=1, b=0, c=x ### Acá se introducen los parámetros\n",
    "relacion_recurrencia, y_solucion = calcular_solucion_en_terminos_de_c0_c1(10, 1, 0, x) \n",
    "y_solucion"
   ]
  },
  {
   "cell_type": "markdown",
   "id": "29d5de02",
   "metadata": {},
   "source": [
    "## Puntos Singulares Regulares. Teorema de Frobenius\n",
    "\n",
    "**Definición**: Un punto singular $x_0$ de la EDO lineal homogénea [](Serie1) y su forma estándar [](Serie2) se denomina **regular** si las funciones \n",
    "\n",
    "$$\n",
    "a(x)=(x-x_0)P(x)~~\\text{y}~~b(x)=(x-x_0)^2Q(x)\n",
    "$$ \n",
    "\n",
    "son analíticas en $x_0$. Un punto singular que no es regular se denomina **irregular**.\n",
    "\n",
    "```{admonition} Ejercicio Teórico\n",
    "Clasifique los puntos singulares como regulares o irregulares para la ecuación \n",
    "\n",
    "$$\n",
    "(x^2-x)y''-3xy'+y=0.\n",
    "$$\n",
    "```\n",
    "\n",
    "Para resolver la EDO [](Serie1) respecto a un punto singular regular, se emplea el siguiente teorema debido a Frobenius:"
   ]
  },
  {
   "cell_type": "markdown",
   "id": "ba1b9f0c",
   "metadata": {},
   "source": [
    "### Teorema de Frobenius\n",
    "\n",
    "Si $x_0$ es un punto singular regular de la ecuación diferencial [](Serie1), entonces existe **al menos** una solución de la forma \n",
    "\n",
    "$$\n",
    "y=\\sum_{n=0}^\\infty c_n(x-x_0)^{n+r}\n",
    "$$ \n",
    "\n",
    "donde el número $r$ es una constante por determinar. La serie converge por lo menos en algún intervalo $0<x-x_0<R$.\n",
    "\n",
    "```{admonition} Ejercicio Teórico\n",
    "Encuentre la solución general en $]0,\\infty[$ de la ecuación diferencial dada en torno al punto singular regular $x_0=0$: \n",
    "\n",
    "$$\n",
    "2xy''-y'+2y=0.\n",
    "$$\n",
    "```"
   ]
  },
  {
   "cell_type": "markdown",
   "id": "f13135ce",
   "metadata": {},
   "source": [
    "### Ecuación Indicial\n",
    "\n",
    "Al resolver la ecuación \n",
    "\n",
    "$$\n",
    "xy''+y=0\n",
    "$$ \n",
    "\n",
    "en torno al punto singular regular $x_0=0$, encontramos una única solución: \n",
    "\n",
    "$$\n",
    "y_1(x)=\\sum_{n=0}^\\infty\\frac{(-1)^n}{n!(n+1)!}x^{n+1}.\n",
    "$$\n",
    "\n",
    "¿Bajo qué condiciones podemos encontrar 2 soluciones L.I.?\n",
    "\n",
    "Si $x_0=0$ es punto singular regular de la ED [](Serie1) entonces las funciones \n",
    "\n",
    "$$\n",
    "a(x)=xP(x)~~\\text{y}~~b(x)=x^2Q(x)\n",
    "$$ \n",
    "\n",
    "son analíticas en torno a $x_0=0$, es decir \n",
    "\n",
    "$$\n",
    "\\begin{array}{ccc}\n",
    "     a(x)=xP(x)&=&a_0+a_1x+a_2x^2+a_3x^3+\\cdots  \\\\\n",
    "     b(x)=x^2Q(x)&=&b_0+b_1x+b_2x^2+b_3x^3+\\cdots\n",
    "\\end{array}\n",
    "$$\n",
    "\n",
    "Sustituyendo la solución $\\displaystyle y=\\sum_{n=0}^\\infty c_nx^{n+r}$ en \n",
    "\n",
    "$$\n",
    "x^2y''+x\\left[xP(x)\\right]y'+\\left[x^2Q(x)\\right]y=0\n",
    "$$ \n",
    "\n",
    "(luego de multiplicar la EDO en forma estándar por $x^2$)\n",
    "\n",
    "obtenemos la **ecuación indicial** \n",
    "\n",
    "$$\n",
    "r(r-1)+a_0r+b_0=0\n",
    "$$\n",
    "\n",
    "Esta es una ecuación cuadrática en $r$, por lo que tenemos 3 casos en función de sus raíces $r_1$ y $r_2$ (solo consideramos el caso en que son reales):\n",
    "\n",
    "1. Si $r_1$ y $r_2$ son distintas y la diferencia $r_1-r_2$ no es un entero positivo, entonces existen dos soluciones L.I. de la ecuación [](Serie1) de la forma\n",
    "\n",
    "$$\n",
    "y_1(x)=\\sum_{n=0}^\\infty c_nx^{n+r_1}~~,~~y_2(x)=\\sum_{n=0}^\\infty b_nx^{n+r_2}~~,~~b_0,c_0\\neq0.\n",
    "$$\n",
    "\n",
    "2. Si $r_1$ y $r_2$ son distintas y la diferencia $r_1-r_2$ es un entero positivo, entonces existen dos soluciones de la ecuación [](Serie1) L.I. de la forma\n",
    "\n",
    "$$\n",
    "\\begin{array}{ccc}\n",
    "       &y_1(x)=\\displaystyle\\sum_{n=0}^\\infty c_nx^{n+r_1}~~,&c_0\\neq0 \\\\\n",
    "        &y_2(x)=\\displaystyle Cy_1(x)\\ln(x)+\\sum_{n=0}^\\infty b_nx^{n+r_2}~~,&b_0\\neq0\n",
    "    \\end{array}\n",
    "$$ \n",
    "\n",
    "donde $C$ es una constante que podría ser cero.\n",
    "\n",
    "3. Si $r_1$ y $r_2$ son iguales, entonces existen dos soluciones L.I. de la ecuación [](Serie1) de la forma \n",
    "    \n",
    "$$\n",
    "\\begin{array}{ccc}\n",
    "       &&y_1(x)=\\displaystyle\\sum_{n=0}^\\infty c_nx^{n+r_1}~~,~~c_0\\neq0 \\\\\n",
    "        &&y_2(x)=\\displaystyle y_1(x)\\ln(x)+\\sum_{n=1}^\\infty b_nx^{n+r_1}\n",
    "    \\end{array}\n",
    "$$\n",
    "\n",
    "```{admonition} Ejercicio Teórico\n",
    "Encuentre la forma de la solución general en $]0,\\infty[$ de la ecuación \n",
    "\n",
    "$$\n",
    "xy''+(1-x)y'-y=0\n",
    "$$\n",
    "```"
   ]
  }
 ],
 "metadata": {
  "jupytext": {
   "formats": "md:myst",
   "text_representation": {
    "extension": ".md",
    "format_name": "myst",
    "format_version": 0.13,
    "jupytext_version": "1.11.5"
   }
  },
  "kernelspec": {
   "display_name": "Python 3",
   "language": "python",
   "name": "python3"
  },
  "language_info": {
   "codemirror_mode": {
    "name": "ipython",
    "version": 3
   },
   "file_extension": ".py",
   "mimetype": "text/x-python",
   "name": "python",
   "nbconvert_exporter": "python",
   "pygments_lexer": "ipython3",
   "version": "3.9.13"
  },
  "source_map": [
   13,
   18,
   23,
   27,
   45,
   94,
   98,
   129,
   132,
   181,
   204,
   223
  ]
 },
 "nbformat": 4,
 "nbformat_minor": 5
}